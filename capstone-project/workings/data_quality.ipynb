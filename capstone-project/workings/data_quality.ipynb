{
 "cells": [
  {
   "cell_type": "markdown",
   "metadata": {},
   "source": [
    "# Perform data quality checks"
   ]
  },
  {
   "cell_type": "code",
   "execution_count": 1,
   "metadata": {},
   "outputs": [],
   "source": [
    "# Import libraries\n",
    "import configparser\n",
    "import os\n",
    "import pandas as pd\n",
    "import psycopg2"
   ]
  },
  {
   "cell_type": "markdown",
   "metadata": {},
   "source": [
    "## Connect to DB"
   ]
  },
  {
   "cell_type": "code",
   "execution_count": 2,
   "metadata": {},
   "outputs": [],
   "source": [
    "# Read config files to obtain redshift credentials\n",
    "config = configparser.ConfigParser()\n",
    "config.read('dwh.cfg')\n",
    "host, dbname, user, = config.get(\"DWH\",\"dwh_endpoint\"), config.get(\"DWH\", \"dwh_db\"),  config.get(\"DWH\", \"dwh_db_user\")\n",
    "password, port =  config.get(\"DWH\", \"dwh_db_password\"),  config.get(\"DWH\", \"dwh_port\")\n",
    "\n",
    "# Connect to redshift\n",
    "connection_string = \"host={} dbname={} user={} password={} port={}\".format(host, dbname, user, password, port)\n",
    "conn = psycopg2.connect(connection_string)\n",
    "cur = conn.cursor()"
   ]
  },
  {
   "cell_type": "markdown",
   "metadata": {},
   "source": [
    "## Data quality checks"
   ]
  },
  {
   "cell_type": "markdown",
   "metadata": {},
   "source": [
    "## Row count quality check"
   ]
  },
  {
   "cell_type": "code",
   "execution_count": 10,
   "metadata": {},
   "outputs": [
    {
     "name": "stdout",
     "output_type": "stream",
     "text": [
      "IMDB_TITLE_AKAS 24978357\n",
      "IMDB_TITLE_PRINCIPALS 42750666\n",
      "IMDB_TITLE_BASICS 7554298\n",
      "IMDB_TITLE_CREW 7554298\n",
      "IMDB_TITLE_EPISODE 5471901\n",
      "IMDB_TITLE_RATINGS 1116071\n",
      "IMDB_NAME_BASICS 10671837\n",
      "KAGGLE_MOVIES_METADATA 45363\n",
      "KAGGLE_KEYWORDS 46419\n",
      "KAGGLE_CREDITS 30457\n",
      "KAGGLE_LINKS 45843\n",
      "KAGGLE_RATINGS 26024289\n",
      "IMDB_TITLE_PRINCIPALS 42750666\n"
     ]
    }
   ],
   "source": [
    "table_names = [\n",
    "    'IMDB_TITLE_AKAS', 'IMDB_TITLE_PRINCIPALS', 'IMDB_TITLE_BASICS', 'IMDB_TITLE_CREW', 'IMDB_TITLE_EPISODE', \n",
    "    'IMDB_TITLE_RATINGS', 'IMDB_NAME_BASICS', 'KAGGLE_MOVIES_METADATA', 'KAGGLE_KEYWORDS', 'KAGGLE_CREDITS', \n",
    "    'KAGGLE_LINKS', 'KAGGLE_RATINGS'\n",
    "]\n",
    "\n",
    "max_rows = 0\n",
    "max_table = \"\"\n",
    "\n",
    "for table in table_names:\n",
    "    sql_string = \"SELECT COUNT(*) FROM \" + table + \";\"\n",
    "    cur.execute(sql_string)\n",
    "    conn.commit()\n",
    "    row = cur.fetchone()\n",
    "    num_rows = row[0]\n",
    "    \n",
    "    if num_rows <= 0:\n",
    "        raise ValueError('ERROR: table ' + table + ' has 0 rows.')\n",
    "        \n",
    "    print(table, num_rows)\n",
    "        \n",
    "    if num_rows > max_rows:\n",
    "        max_rows = num_rows\n",
    "        max_table = table\n",
    "        \n",
    "print(max_table, max_rows)"
   ]
  },
  {
   "cell_type": "markdown",
   "metadata": {},
   "source": [
    "## Check if majority of IMDB title IDs in TMDB exists within IMDB dataset.\n",
    "\n",
    "Set error threshold = 0.2 %"
   ]
  },
  {
   "cell_type": "code",
   "execution_count": 11,
   "metadata": {},
   "outputs": [
    {
     "data": {
      "text/plain": [
       "0.0016578321663067426"
      ]
     },
     "execution_count": 11,
     "metadata": {},
     "output_type": "execute_result"
    }
   ],
   "source": [
    "76 / 45843"
   ]
  },
  {
   "cell_type": "code",
   "execution_count": 14,
   "metadata": {},
   "outputs": [
    {
     "name": "stdout",
     "output_type": "stream",
     "text": [
      "0.0016578321663067426\n"
     ]
    }
   ],
   "source": [
    "query = \"SELECT COUNT(*) FROM KAGGLE_LINKS WHERE KAGGLE_LINKS.IMDB_ID NOT IN (SELECT IMDB_TITLE_PRINCIPALS.TITLE_ID FROM IMDB_TITLE_PRINCIPALS );\"\n",
    "cur.execute(query)\n",
    "conn.commit()\n",
    "row = cur.fetchone()\n",
    "non_existing_imdb_ids = row[0]\n",
    "\n",
    "query = \"SELECT COUNT(*) FROM KAGGLE_LINKS\"\n",
    "cur.execute(query)\n",
    "conn.commit()\n",
    "row = cur.fetchone()\n",
    "kaggle_imdb_counts = row[0]\n",
    "\n",
    "print(non_existing_imdb_ids / kaggle_imdb_counts)\n",
    "\n",
    "proportion_non_existing = non_existing_imdb_ids / kaggle_imdb_counts\n",
    "\n",
    "if proportion_non_existing >= (0.002 * kaggle_imdb_counts):\n",
    "    print(\"Error threshold exceeded, pls check data quality\")"
   ]
  },
  {
   "cell_type": "code",
   "execution_count": 15,
   "metadata": {},
   "outputs": [],
   "source": [
    "# Disconnect from redshift\n",
    "conn.close()"
   ]
  }
 ],
 "metadata": {
  "kernelspec": {
   "display_name": "Python 3",
   "language": "python",
   "name": "python3"
  },
  "language_info": {
   "codemirror_mode": {
    "name": "ipython",
    "version": 3
   },
   "file_extension": ".py",
   "mimetype": "text/x-python",
   "name": "python",
   "nbconvert_exporter": "python",
   "pygments_lexer": "ipython3",
   "version": "3.7.7"
  }
 },
 "nbformat": 4,
 "nbformat_minor": 4
}
