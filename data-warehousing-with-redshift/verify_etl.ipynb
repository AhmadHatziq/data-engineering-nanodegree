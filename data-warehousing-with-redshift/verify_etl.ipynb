{
 "cells": [
  {
   "cell_type": "markdown",
   "metadata": {
    "editable": true
   },
   "source": [
    "# Verifying data transfer\n",
    "\n",
    "The purpose of this notebook is to show that the ETL had completed successfully and verify the data integrity by running ad-hoc queries against the 5 FACT & DIMENSION tables.\n",
    "\n",
    "### Load libraries"
   ]
  },
  {
   "cell_type": "code",
   "execution_count": 1,
   "metadata": {
    "editable": true
   },
   "outputs": [],
   "source": [
    "%load_ext sql"
   ]
  },
  {
   "cell_type": "code",
   "execution_count": 2,
   "metadata": {
    "editable": true
   },
   "outputs": [],
   "source": [
    "import boto3\n",
    "import configparser\n",
    "import matplotlib.pyplot as plt\n",
    "import pandas as pd\n",
    "import json\n",
    "import time\n",
    "import psycopg2"
   ]
  },
  {
   "cell_type": "markdown",
   "metadata": {
    "editable": true
   },
   "source": [
    "### Connect to DB"
   ]
  },
  {
   "cell_type": "code",
   "execution_count": 3,
   "metadata": {
    "editable": true
   },
   "outputs": [
    {
     "name": "stdout",
     "output_type": "stream",
     "text": [
      "Connection Established.\n"
     ]
    }
   ],
   "source": [
    "# Read config files\n",
    "config = configparser.ConfigParser()\n",
    "config.read('dwh.cfg')\n",
    "host, dbname, user, = config.get(\"DWH\",\"dwh_endpoint\"), config.get(\"DWH\", \"dwh_db\"),  config.get(\"DWH\", \"dwh_db_user\")\n",
    "password, port =  config.get(\"DWH\", \"dwh_db_password\"),  config.get(\"DWH\", \"dwh_port\")\n",
    "arn_role = config.get(\"DWH\", \"dwh_role_arn\")\n",
    "\n",
    "# Connect to cloud\n",
    "connection_string = \"host={} dbname={} user={} password={} port={}\".format(host, dbname, user, password, port)\n",
    "conn = psycopg2.connect(connection_string)\n",
    "cur = conn.cursor()\n",
    "conn.set_session(autocommit=True)\n",
    "\n",
    "print(\"Connection Established.\")"
   ]
  },
  {
   "cell_type": "markdown",
   "metadata": {
    "editable": true
   },
   "source": [
    "## Get row counts for each table"
   ]
  },
  {
   "cell_type": "code",
   "execution_count": 4,
   "metadata": {
    "editable": true
   },
   "outputs": [
    {
     "name": "stdout",
     "output_type": "stream",
     "text": [
      "star_schema.songplays\n",
      "(333,)\n",
      "\n",
      "\n",
      "star_schema.time\n",
      "(8056,)\n",
      "\n",
      "\n",
      "star_schema.artists\n",
      "(14896,)\n",
      "\n",
      "\n",
      "star_schema.users\n",
      "(6820,)\n",
      "\n",
      "\n",
      "star_schema.songs\n",
      "(14896,)\n",
      "\n",
      "\n"
     ]
    }
   ],
   "source": [
    "# Find number of rows in each table\n",
    "table_names = ['star_schema.songplays', 'star_schema.time', 'star_schema.artists', 'star_schema.users', 'star_schema.songs']\n",
    "\n",
    "for table in table_names: \n",
    "    \n",
    "    try: \n",
    "        sql_string = \"SELECT COUNT(*) FROM \" + table + \";\"\n",
    "        cur.execute(sql_string)\n",
    "    except psycopg2.Error as e: \n",
    "        print(\"Error: select *\")\n",
    "        print (e)\n",
    "\n",
    "    print(table)\n",
    "    row = cur.fetchone()\n",
    "    while row:\n",
    "       print(row)\n",
    "       row = cur.fetchone()\n",
    "    print(\"\\n\")"
   ]
  },
  {
   "cell_type": "markdown",
   "metadata": {
    "editable": true
   },
   "source": [
    "## Get the most popular browser"
   ]
  },
  {
   "cell_type": "code",
   "execution_count": 5,
   "metadata": {
    "editable": true
   },
   "outputs": [
    {
     "name": "stdout",
     "output_type": "stream",
     "text": [
      "('\"Mozilla/5.0 (Macintosh; Intel Mac OS X 10_9_4) AppleWebKit/537.78.2 (KHTML, like Gecko) Version/7.0.6 Safari/537.78.2\"',)\n",
      "('Mozilla/5.0 (Windows NT 6.1; WOW64; rv:31.0) Gecko/20100101 Firefox/31.0',)\n",
      "('\"Mozilla/5.0 (Macintosh; Intel Mac OS X 10_10_0) AppleWebKit/537.36 (KHTML, like Gecko) Chrome/36.0.1985.143 Safari/537.36\"',)\n",
      "('\"Mozilla/5.0 (X11; Linux x86_64) AppleWebKit/537.36 (KHTML, like Gecko) Ubuntu Chromium/36.0.1985.125 Chrome/36.0.1985.125 Safari/537.36\"',)\n",
      "('\"Mozilla/5.0 (iPhone; CPU iPhone OS 7_1_2 like Mac OS X) AppleWebKit/537.51.2 (KHTML, like Gecko) Version/7.0 Mobile/11D257 Safari/9537.53\"',)\n",
      "('\"Mozilla/5.0 (X11; Linux x86_64) AppleWebKit/537.36 (KHTML, like Gecko) Chrome/37.0.2062.94 Safari/537.36\"',)\n",
      "('\"Mozilla/5.0 (Windows NT 5.1) AppleWebKit/537.36 (KHTML, like Gecko) Chrome/36.0.1985.143 Safari/537.36\"',)\n",
      "('\"Mozilla/5.0 (Macintosh; Intel Mac OS X 10_9_4) AppleWebKit/537.36 (KHTML, like Gecko) Chrome/37.0.2062.94 Safari/537.36\"',)\n",
      "('\"Mozilla/5.0 (Macintosh; Intel Mac OS X 10_9_4) AppleWebKit/537.36 (KHTML, like Gecko) Chrome/36.0.1985.143 Safari/537.36\"',)\n",
      "('\"Mozilla/5.0 (Windows NT 6.1; WOW64) AppleWebKit/537.36 (KHTML, like Gecko) Chrome/35.0.1916.153 Safari/537.36\"',)\n",
      "('\"Mozilla/5.0 (Macintosh; Intel Mac OS X 10_9_3) AppleWebKit/537.36 (KHTML, like Gecko) Chrome/37.0.2062.94 Safari/537.36\"',)\n",
      "('Mozilla/5.0 (Windows NT 6.1; WOW64; rv:32.0) Gecko/20100101 Firefox/32.0',)\n",
      "('\"Mozilla/5.0 (Macintosh; Intel Mac OS X 10_6_8) AppleWebKit/534.59.10 (KHTML, like Gecko) Version/5.1.9 Safari/534.59.10\"',)\n",
      "('Mozilla/5.0 (compatible; MSIE 10.0; Windows NT 6.2; WOW64; Trident/6.0)',)\n",
      "('\"Mozilla/5.0 (Macintosh; Intel Mac OS X 10_9_4) AppleWebKit/537.36 (KHTML, like Gecko) Chrome/36.0.1985.125 Safari/537.36\"',)\n",
      "('\"Mozilla/5.0 (Macintosh; Intel Mac OS X 10_9_4) AppleWebKit/537.77.4 (KHTML, like Gecko) Version/7.0.5 Safari/537.77.4\"',)\n",
      "('Mozilla/5.0 (Macintosh; Intel Mac OS X 10.9; rv:30.0) Gecko/20100101 Firefox/30.0',)\n",
      "('\"Mozilla/5.0 (Macintosh; Intel Mac OS X 10_10) AppleWebKit/538.46 (KHTML, like Gecko) Version/8.0 Safari/538.46\"',)\n",
      "('Mozilla/5.0 (Windows NT 6.1; rv:31.0) Gecko/20100101 Firefox/31.0',)\n",
      "('\"Mozilla/5.0 (Windows NT 6.3; WOW64) AppleWebKit/537.36 (KHTML, like Gecko) Chrome/36.0.1985.143 Safari/537.36\"',)\n",
      "('\"Mozilla/5.0 (iPhone; CPU iPhone OS 7_1_1 like Mac OS X) AppleWebKit/537.51.2 (KHTML, like Gecko) Version/7.0 Mobile/11D201 Safari/9537.53\"',)\n",
      "('\"Mozilla/5.0 (Windows NT 6.1; WOW64) AppleWebKit/537.36 (KHTML, like Gecko) Chrome/37.0.2062.103 Safari/537.36\"',)\n",
      "('Mozilla/5.0 (Macintosh; Intel Mac OS X 10.9; rv:31.0) Gecko/20100101 Firefox/31.0',)\n",
      "('\"Mozilla/5.0 (Windows NT 6.3; WOW64) AppleWebKit/537.36 (KHTML, like Gecko) Chrome/36.0.1985.125 Safari/537.36\"',)\n",
      "('Mozilla/5.0 (X11; Linux x86_64; rv:31.0) Gecko/20100101 Firefox/31.0',)\n",
      "('\"Mozilla/5.0 (Macintosh; Intel Mac OS X 10_9_3) AppleWebKit/537.75.14 (KHTML, like Gecko) Version/7.0.3 Safari/537.75.14\"',)\n",
      "('Mozilla/5.0 (Windows NT 5.1; rv:31.0) Gecko/20100101 Firefox/31.0',)\n",
      "('\"Mozilla/5.0 (Windows NT 6.1; WOW64) AppleWebKit/537.36 (KHTML, like Gecko) Chrome/36.0.1985.125 Safari/537.36\"',)\n"
     ]
    }
   ],
   "source": [
    "# Get the most popular user agant\n",
    "sql_string = \"SELECT DISTINCT user_agent FROM star_schema.songplays;\"\n",
    "cur.execute(sql_string)\n",
    "row = cur.fetchone()\n",
    "while row:\n",
    "   print(row)\n",
    "   row = cur.fetchone()"
   ]
  },
  {
   "cell_type": "code",
   "execution_count": 6,
   "metadata": {
    "editable": true
   },
   "outputs": [
    {
     "name": "stdout",
     "output_type": "stream",
     "text": [
      "Safari users:  (244,)\n",
      "Chrome users:  (187,)\n",
      "Firefox users:  (88,)\n"
     ]
    }
   ],
   "source": [
    "# Get the popular user agant\n",
    "sql_string = \"SELECT COUNT(*) FROM star_schema.songplays WHERE user_agent LIKE '%Safari%';\"\n",
    "cur.execute(sql_string)\n",
    "row = cur.fetchone()\n",
    "print(\"Safari users: \", row)\n",
    "\n",
    "sql_string = \"SELECT COUNT(*) FROM star_schema.songplays WHERE user_agent LIKE '%Chrome%';\"\n",
    "cur.execute(sql_string)\n",
    "row = cur.fetchone()\n",
    "print(\"Chrome users: \", row)\n",
    "\n",
    "sql_string = \"SELECT COUNT(*) FROM star_schema.songplays WHERE user_agent LIKE '%Firefox%';\"\n",
    "cur.execute(sql_string)\n",
    "row = cur.fetchone()\n",
    "print(\"Firefox users: \", row)"
   ]
  },
  {
   "cell_type": "markdown",
   "metadata": {
    "editable": true
   },
   "source": [
    "## Get gender breakdown of users"
   ]
  },
  {
   "cell_type": "code",
   "execution_count": 7,
   "metadata": {
    "editable": true
   },
   "outputs": [
    {
     "name": "stdout",
     "output_type": "stream",
     "text": [
      "('M', 17586)\n",
      "('F', 98186)\n"
     ]
    }
   ],
   "source": [
    "sql_string = \"SELECT star_schema.users.gender, COUNT(*)  FROM star_schema.songplays JOIN star_schema.users ON star_schema.songplays.user_id = users.userid GROUP BY star_schema.users.gender\"\n",
    "cur.execute(sql_string)\n",
    "row = cur.fetchone()\n",
    "counter = 0\n",
    "while row:\n",
    "    print(row)\n",
    "    row = cur.fetchone()\n",
    "    counter += 1\n",
    "    if counter == 5: break"
   ]
  },
  {
   "cell_type": "code",
   "execution_count": 8,
   "metadata": {
    "editable": true
   },
   "outputs": [
    {
     "data": {
      "text/plain": [
       "(-1.1048113584651906,\n",
       " 1.1065533188008205,\n",
       " -1.105892724060336,\n",
       " 1.1002806059076351)"
      ]
     },
     "execution_count": 8,
     "metadata": {},
     "output_type": "execute_result"
    },
    {
     "data": {
      "image/png": "[encoded data removed]",
      "text/plain": [
       "<matplotlib.figure.Figure at 0x7fde00b94c18>"
      ]
     },
     "metadata": {},
     "output_type": "display_data"
    }
   ],
   "source": [
    "# Visualize using pie chart\n",
    "import matplotlib.pyplot as plt\n",
    "\n",
    "# Pie chart, where the slices will be ordered and plotted counter-clockwise:\n",
    "labels = ['Male', 'Female']\n",
    "sizes = [17586, 98186]\n",
    "explode = (0, 0)  # only \"explode\" the 2nd slice (i.e. 'Hogs')\n",
    "\n",
    "fig1, ax1 = plt.subplots()\n",
    "ax1.pie(sizes, explode=explode, labels=labels, autopct='%1.1f%%',\n",
    "        shadow=True, startangle=90)\n",
    "ax1.axis('equal')  # Equal aspect ratio ensures that pie is drawn as a circle.\n"
   ]
  }
 ],
 "metadata": {
  "kernelspec": {
   "display_name": "Python 3",
   "language": "python",
   "name": "python3"
  },
  "language_info": {
   "codemirror_mode": {
    "name": "ipython",
    "version": 3
   },
   "file_extension": ".py",
   "mimetype": "text/x-python",
   "name": "python",
   "nbconvert_exporter": "python",
   "pygments_lexer": "ipython3",
   "version": "3.6.3"
  }
 },
 "nbformat": 4,
 "nbformat_minor": 4
}
