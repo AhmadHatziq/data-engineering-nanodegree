{
 "cells": [
  {
   "cell_type": "markdown",
   "metadata": {},
   "source": [
    "# Clean datasets within Spark & save to parquet\n",
    "\n",
    "There are currently 2 sources of dataset:\n",
    "1. [IMDB](https://datasets.imdbws.com/) - Obtained directly from IMDB. Stored as 6 tsv files. \n",
    "2. Kaggle - [The Movies Dataset](https://www.kaggle.com/rounakbanik/the-movies-dataset), obtained from the official GroupLens website. Stored as 5 csv."
   ]
  },
  {
   "cell_type": "markdown",
   "metadata": {},
   "source": [
    "## Import credentials & set spark session"
   ]
  },
  {
   "cell_type": "code",
   "execution_count": 52,
   "metadata": {},
   "outputs": [],
   "source": [
    "# Import and definition statements\n",
    "import configparser\n",
    "import os\n",
    "import pandas as pd\n",
    "from pyspark.sql import SparkSession\n",
    "from pyspark.sql.functions import col, when, concat, col, lit, length\n",
    "from pyspark.sql.types import IntegerType, DoubleType, LongType\n",
    "\n",
    "# Function to convert \"\\N\" to None/null\n",
    "def blank_as_null(x):\n",
    "    return when(col(x) != r\"\\N\", col(x)).otherwise(None)"
   ]
  },
  {
   "cell_type": "code",
   "execution_count": null,
   "metadata": {},
   "outputs": [],
   "source": [
    "config = configparser.ConfigParser()\n",
    "config.read_file(open('dwh.cfg'))\n",
    "\n",
    "os.environ[\"AWS_ACCESS_KEY_ID\"] = config.get('AWS','key')\n",
    "os.environ[\"AWS_SECRET_ACCESS_KEY\"] = config.get('AWS','secret')\n",
    "\n",
    "print(\"Key: \", os.environ[\"AWS_ACCESS_KEY_ID\"])\n",
    "print(\"Secret: \", os.environ[\"AWS_SECRET_ACCESS_KEY\"])"
   ]
  },
  {
   "cell_type": "code",
   "execution_count": 3,
   "metadata": {},
   "outputs": [],
   "source": [
    "# Create spark session\n",
    "spark = SparkSession.builder\\\n",
    "                     .config(\"spark.jars.packages\",\"org.apache.hadoop:hadoop-aws:2.7.0\")\\\n",
    "                     .getOrCreate()"
   ]
  },
  {
   "cell_type": "markdown",
   "metadata": {},
   "source": [
    "# Load 6 IMDB tsv files from S3\n",
    "## Load title-principals.tsv"
   ]
  },
  {
   "cell_type": "code",
   "execution_count": 59,
   "metadata": {},
   "outputs": [],
   "source": [
    "s3_bucket = \"s3a://udacity-dend-capstone-1995/datasets/imdb/\""
   ]
  },
  {
   "cell_type": "code",
   "execution_count": 60,
   "metadata": {},
   "outputs": [
    {
     "data": {
      "text/plain": [
       "'s3a://udacity-dend-capstone-1995/datasets/imdb/title-principals.tsv'"
      ]
     },
     "execution_count": 60,
     "metadata": {},
     "output_type": "execute_result"
    }
   ],
   "source": [
    "title_principals_path = s3_bucket + 'title-principals.tsv'\n",
    "title_principals_path"
   ]
  },
  {
   "cell_type": "code",
   "execution_count": 61,
   "metadata": {},
   "outputs": [],
   "source": [
    "principal_df = spark.read.csv(title_principals_path, sep=r'\\t', header=True)"
   ]
  },
  {
   "cell_type": "code",
   "execution_count": 63,
   "metadata": {},
   "outputs": [
    {
     "name": "stdout",
     "output_type": "stream",
     "text": [
      "Num rows:  42750666\n",
      "root\n",
      " |-- TITLE_ID: string (nullable = true)\n",
      " |-- NAME_ID: string (nullable = true)\n",
      " |-- ORDERING: integer (nullable = true)\n",
      " |-- CATEGORY: string (nullable = true)\n",
      " |-- JOB: string (nullable = true)\n",
      " |-- CHARACTERS: string (nullable = true)\n",
      "\n",
      "+---------+---------+--------+---------------+--------------------+----------+\n",
      "| TITLE_ID|  NAME_ID|ORDERING|       CATEGORY|                 JOB|CHARACTERS|\n",
      "+---------+---------+--------+---------------+--------------------+----------+\n",
      "|tt0000001|nm1588970|       1|           self|                null|  [\"Self\"]|\n",
      "|tt0000001|nm0005690|       2|       director|                null|      null|\n",
      "|tt0000001|nm0374658|       3|cinematographer|director of photo...|      null|\n",
      "|tt0000002|nm0721526|       1|       director|                null|      null|\n",
      "|tt0000002|nm1335271|       2|       composer|                null|      null|\n",
      "+---------+---------+--------+---------------+--------------------+----------+\n",
      "only showing top 5 rows\n",
      "\n"
     ]
    }
   ],
   "source": [
    "principal_df = principal_df.withColumn(\"characters\", blank_as_null(\"characters\"))\n",
    "principal_df = principal_df.withColumn(\"job\", blank_as_null(\"job\"))\n",
    "\n",
    "# Change the type of 'ordering' column to int\n",
    "principal_df = principal_df.withColumn(\"ordering\", principal_df[\"ordering\"].cast(IntegerType()))\n",
    "\n",
    "# Rename columns\n",
    "principal_df = principal_df.selectExpr(\"tconst as TITLE_ID\", \"nconst as NAME_ID\", \"ordering as ORDERING\", \"category as CATEGORY\", \n",
    "                                      \"job as JOB\", \"characters as CHARACTERS\")\n",
    "\n",
    "print('Num rows: ' , principal_df.count())\n",
    "principal_df.printSchema()\n",
    "principal_df.show(5)"
   ]
  },
  {
   "cell_type": "code",
   "execution_count": 66,
   "metadata": {},
   "outputs": [
    {
     "data": {
      "text/plain": [
       "[Row(max(JOB)=286, max(CATEGORY)=19, max(TITLE_ID)=10, max(CHARACTERS)=463, max(NAME_ID)=10)]"
      ]
     },
     "execution_count": 66,
     "metadata": {},
     "output_type": "execute_result"
    }
   ],
   "source": [
    "# Check length of string columns\n",
    "length_df = principal_df.withColumn('TITLE_ID', length(\"TITLE_ID\")) \\\n",
    "                   .withColumn('NAME_ID', length(\"NAME_ID\"))       \\\n",
    "                   .withColumn('CATEGORY', length(\"CATEGORY\"))     \\\n",
    "                   .withColumn('JOB', length(\"JOB\")).withColumn('CHARACTERS', length(\"CHARACTERS\"))          \n",
    "                   \n",
    "\n",
    "max_length = length_df.agg({\"TITLE_ID\": \"max\", \"NAME_ID\": \"max\" , \"CATEGORY\": \"max\",\n",
    "                            \"JOB\": \"max\", \"CHARACTERS\": \"max\"\n",
    "                               }).collect()\n",
    "\n",
    "max_length"
   ]
  },
  {
   "cell_type": "code",
   "execution_count": 8,
   "metadata": {},
   "outputs": [],
   "source": [
    "# Save parquet to S3 bucket\n",
    "output_path = \"s3a://udacity-dend-capstone-1995/parquet/imdb-principal/imdb_principal.parquet\"\n",
    "principal_df.write.parquet(output_path, 'overwrite')"
   ]
  },
  {
   "cell_type": "code",
   "execution_count": 67,
   "metadata": {},
   "outputs": [],
   "source": [
    "del principal_df"
   ]
  },
  {
   "cell_type": "markdown",
   "metadata": {},
   "source": [
    "## Load title-akas.tsv"
   ]
  },
  {
   "cell_type": "code",
   "execution_count": 48,
   "metadata": {},
   "outputs": [
    {
     "data": {
      "text/plain": [
       "'s3a://udacity-dend-capstone-1995/datasets/imdb/title-akas.tsv'"
      ]
     },
     "execution_count": 48,
     "metadata": {},
     "output_type": "execute_result"
    }
   ],
   "source": [
    "title_akas_path = s3_bucket + 'title-akas.tsv'\n",
    "title_akas_path"
   ]
  },
  {
   "cell_type": "code",
   "execution_count": 49,
   "metadata": {},
   "outputs": [
    {
     "name": "stdout",
     "output_type": "stream",
     "text": [
      "Row counts:  24978357\n",
      "root\n",
      " |-- TITLE_ID: string (nullable = true)\n",
      " |-- ORDERING: integer (nullable = true)\n",
      " |-- TITLE: string (nullable = true)\n",
      " |-- REGION: string (nullable = true)\n",
      " |-- LANGUAGE: string (nullable = true)\n",
      " |-- TYPES: string (nullable = true)\n",
      " |-- ATTRIBUTES: string (nullable = true)\n",
      " |-- IS_ORIGINAL_TITLE: integer (nullable = true)\n",
      "\n",
      "+---------+--------+--------------------+------+--------+-----------+-------------+-----------------+\n",
      "| TITLE_ID|ORDERING|               TITLE|REGION|LANGUAGE|      TYPES|   ATTRIBUTES|IS_ORIGINAL_TITLE|\n",
      "+---------+--------+--------------------+------+--------+-----------+-------------+-----------------+\n",
      "|tt0000001|       1|          Карменсіта|    UA|    null|imdbDisplay|         null|                0|\n",
      "|tt0000001|       2|          Carmencita|    DE|    null|       null|literal title|                0|\n",
      "|tt0000001|       3|Carmencita - span...|    HU|    null|imdbDisplay|         null|                0|\n",
      "|tt0000001|       4|          Καρμενσίτα|    GR|    null|imdbDisplay|         null|                0|\n",
      "|tt0000001|       5|          Карменсита|    RU|    null|imdbDisplay|         null|                0|\n",
      "+---------+--------+--------------------+------+--------+-----------+-------------+-----------------+\n",
      "only showing top 5 rows\n",
      "\n"
     ]
    }
   ],
   "source": [
    "# Read and clean table\n",
    "akas_df = spark.read.csv(title_akas_path, sep=r'\\t', header=True)\n",
    "\n",
    "# Replace '\\N' with nulls\n",
    "akas_df = akas_df.withColumn(\"language\", blank_as_null(\"language\"))\n",
    "akas_df = akas_df.withColumn(\"types\", blank_as_null(\"types\"))\n",
    "akas_df = akas_df.withColumn(\"attributes\", blank_as_null(\"attributes\"))\n",
    "akas_df = akas_df.withColumn(\"title\", blank_as_null(\"title\"))\n",
    "\n",
    "# Change column type\n",
    "akas_df = akas_df.withColumn(\"ordering\", akas_df[\"ordering\"].cast(IntegerType()))\n",
    "akas_df = akas_df.withColumn(\"isOriginalTitle\", akas_df[\"isOriginalTitle\"].cast(IntegerType()))\n",
    "\n",
    "# Rename columns\n",
    "akas_df = akas_df.selectExpr(\"titleId as TITLE_ID\", \"ordering as ORDERING\", \"title as TITLE\", \n",
    "                             \"region as REGION\", \"language as LANGUAGE\", \"types as TYPES\", \n",
    "                             \"attributes as ATTRIBUTES\", \"isOriginalTitle as IS_ORIGINAL_TITLE\" )\n",
    "\n",
    "print(\"Row counts: \", akas_df.count())\n",
    "akas_df.printSchema()\n",
    "akas_df.show(5)"
   ]
  },
  {
   "cell_type": "code",
   "execution_count": 58,
   "metadata": {},
   "outputs": [
    {
     "data": {
      "text/plain": [
       "[Row(max(length_TITLE)=831, max(length_language)=3, max(length_TITLE_ID)=10, max(length_attributes)=62, max(length_region)=4, max(length_types)=20)]"
      ]
     },
     "execution_count": 58,
     "metadata": {},
     "output_type": "execute_result"
    }
   ],
   "source": [
    "# Check length of string columns\n",
    "length_df = akas_df.withColumn('length_TITLE_ID', length(akas_df.TITLE_ID)) \\\n",
    "                   .withColumn('length_TITLE', length(akas_df.TITLE))       \\\n",
    "                   .withColumn('length_region', length(akas_df.REGION))     \\\n",
    "                   .withColumn('length_language', length(akas_df.LANGUAGE)) \\\n",
    "                   .withColumn('length_types', length(akas_df.TYPES))       \\\n",
    "                   .withColumn('length_attributes', length(akas_df.ATTRIBUTES))\n",
    "\n",
    "max_length = length_df.agg({\"length_TITLE_ID\": \"max\", \"length_TITLE\": \"max\" , \"length_region\": \"max\",\n",
    "                            \"length_language\": \"max\", \"length_types\": \"max\", \"length_attributes\": \"max\"\n",
    "                               }).collect()\n",
    "\n",
    "max_length"
   ]
  },
  {
   "cell_type": "code",
   "execution_count": 12,
   "metadata": {},
   "outputs": [],
   "source": [
    "# Save to S3 bucket\n",
    "output_path = \"s3a://udacity-dend-capstone-1995/parquet/imdb-akas/imdb_akas.parquet\"\n",
    "akas_df.write.parquet(output_path, 'overwrite')\n",
    "\n",
    "del akas_df"
   ]
  },
  {
   "cell_type": "markdown",
   "metadata": {},
   "source": [
    "## Load title-basics.tsv"
   ]
  },
  {
   "cell_type": "code",
   "execution_count": 68,
   "metadata": {},
   "outputs": [
    {
     "data": {
      "text/plain": [
       "'s3a://udacity-dend-capstone-1995/datasets/imdb/title-basics.tsv'"
      ]
     },
     "execution_count": 68,
     "metadata": {},
     "output_type": "execute_result"
    }
   ],
   "source": [
    "title_basics_path = s3_bucket + 'title-basics.tsv'\n",
    "title_basics_path"
   ]
  },
  {
   "cell_type": "code",
   "execution_count": 69,
   "metadata": {},
   "outputs": [
    {
     "name": "stdout",
     "output_type": "stream",
     "text": [
      "Row counts:  7554298\n",
      "root\n",
      " |-- TITLE_ID: string (nullable = true)\n",
      " |-- TITLE_TYPE: string (nullable = true)\n",
      " |-- PRIMARY_TITLE: string (nullable = true)\n",
      " |-- ORIGINAL_TITLE: string (nullable = true)\n",
      " |-- IS_ADULT: integer (nullable = true)\n",
      " |-- START_YEAR: integer (nullable = true)\n",
      " |-- END_YEAR: integer (nullable = true)\n",
      " |-- RUNTIME_MINUTES: integer (nullable = true)\n",
      " |-- GENRES: string (nullable = true)\n",
      "\n",
      "+---------+----------+--------------------+--------------------+--------+----------+--------+---------------+--------------------+\n",
      "| TITLE_ID|TITLE_TYPE|       PRIMARY_TITLE|      ORIGINAL_TITLE|IS_ADULT|START_YEAR|END_YEAR|RUNTIME_MINUTES|              GENRES|\n",
      "+---------+----------+--------------------+--------------------+--------+----------+--------+---------------+--------------------+\n",
      "|tt0000001|     short|          Carmencita|          Carmencita|       0|      1894|    null|              1|   Documentary,Short|\n",
      "|tt0000002|     short|Le clown et ses c...|Le clown et ses c...|       0|      1892|    null|              5|     Animation,Short|\n",
      "|tt0000003|     short|      Pauvre Pierrot|      Pauvre Pierrot|       0|      1892|    null|              4|Animation,Comedy,...|\n",
      "|tt0000004|     short|         Un bon bock|         Un bon bock|       0|      1892|    null|             12|     Animation,Short|\n",
      "|tt0000005|     short|    Blacksmith Scene|    Blacksmith Scene|       0|      1893|    null|              1|        Comedy,Short|\n",
      "+---------+----------+--------------------+--------------------+--------+----------+--------+---------------+--------------------+\n",
      "only showing top 5 rows\n",
      "\n"
     ]
    }
   ],
   "source": [
    "# Read and clean table\n",
    "basics_df = spark.read.csv(title_basics_path, sep=r'\\t', header=True)\n",
    "\n",
    "# Replace all invalid values with null\n",
    "basics_df = basics_df.withColumn(\"titleType\", blank_as_null(\"titleType\"))\n",
    "basics_df = basics_df.withColumn(\"primaryTitle\", blank_as_null(\"primaryTitle\"))\n",
    "basics_df = basics_df.withColumn(\"originalTitle\", blank_as_null(\"originalTitle\"))\n",
    "basics_df = basics_df.withColumn(\"isAdult\", blank_as_null(\"isAdult\"))\n",
    "basics_df = basics_df.withColumn(\"startYear\", blank_as_null(\"startYear\"))\n",
    "basics_df = basics_df.withColumn(\"endYear\", blank_as_null(\"endYear\"))\n",
    "basics_df = basics_df.withColumn(\"runtimeMinutes\", blank_as_null(\"runtimeMinutes\"))\n",
    "basics_df = basics_df.withColumn(\"genres\", blank_as_null(\"genres\"))\n",
    "\n",
    "# Cast column types\n",
    "basics_df = basics_df.withColumn(\"isAdult\", basics_df[\"isAdult\"].cast(IntegerType()))\n",
    "basics_df = basics_df.withColumn(\"startYear\", basics_df[\"startYear\"].cast(IntegerType()))\n",
    "basics_df = basics_df.withColumn(\"endYear\", basics_df[\"endYear\"].cast(IntegerType()))\n",
    "basics_df = basics_df.withColumn(\"runtimeMinutes\", basics_df[\"runtimeMinutes\"].cast(IntegerType()))\n",
    "\n",
    "# Rename columns\n",
    "basics_df = basics_df.selectExpr(\"tconst as TITLE_ID\", \"titleType as TITLE_TYPE\", \"primaryTitle as PRIMARY_TITLE\", \n",
    "                             \"originalTitle as ORIGINAL_TITLE\", \"isAdult as IS_ADULT\", \"startYear as START_YEAR\", \n",
    "                             \"endYear as END_YEAR\", \"runtimeMinutes as RUNTIME_MINUTES\", \"genres as GENRES\" )\n",
    "\n",
    "print(\"Row counts: \", basics_df.count())\n",
    "basics_df.printSchema()\n",
    "basics_df.show(5)"
   ]
  },
  {
   "cell_type": "code",
   "execution_count": 70,
   "metadata": {},
   "outputs": [
    {
     "data": {
      "text/plain": [
       "[Row(max(PRIMARY_TITLE)=419, max(TITLE_ID)=10, max(ORIGINAL_TITLE)=419, max(TITLE_TYPE)=12, max(GENRES)=32)]"
      ]
     },
     "execution_count": 70,
     "metadata": {},
     "output_type": "execute_result"
    }
   ],
   "source": [
    "# Check length of string columns\n",
    "length_df = basics_df.withColumn('TITLE_ID', length(\"TITLE_ID\")) \\\n",
    "                   .withColumn('TITLE_TYPE', length(\"TITLE_TYPE\"))       \\\n",
    "                   .withColumn('PRIMARY_TITLE', length(\"PRIMARY_TITLE\"))     \\\n",
    "                   .withColumn('ORIGINAL_TITLE', length(\"ORIGINAL_TITLE\")).withColumn('GENRES', length(\"GENRES\"))          \n",
    "                   \n",
    "\n",
    "max_length = length_df.agg({\"TITLE_ID\": \"max\", \"TITLE_TYPE\": \"max\" , \"PRIMARY_TITLE\": \"max\",\n",
    "                            \"ORIGINAL_TITLE\": \"max\", \"GENRES\": \"max\"\n",
    "                               }).collect()\n",
    "\n",
    "max_length"
   ]
  },
  {
   "cell_type": "code",
   "execution_count": 15,
   "metadata": {},
   "outputs": [],
   "source": [
    "# Save to parquet on S3\n",
    "output_path = \"s3a://udacity-dend-capstone-1995/parquet/imdb-basics/imdb_basics.parquet\"\n",
    "basics_df.write.parquet(output_path, 'overwrite')\n",
    "\n",
    "del basics_df"
   ]
  },
  {
   "cell_type": "markdown",
   "metadata": {},
   "source": [
    "## Load title-crew.tsv"
   ]
  },
  {
   "cell_type": "code",
   "execution_count": 71,
   "metadata": {},
   "outputs": [
    {
     "data": {
      "text/plain": [
       "'s3a://udacity-dend-capstone-1995/datasets/imdb/title-crew.tsv'"
      ]
     },
     "execution_count": 71,
     "metadata": {},
     "output_type": "execute_result"
    }
   ],
   "source": [
    "title_crew_path = s3_bucket + 'title-crew.tsv'\n",
    "title_crew_path"
   ]
  },
  {
   "cell_type": "code",
   "execution_count": 72,
   "metadata": {},
   "outputs": [
    {
     "name": "stdout",
     "output_type": "stream",
     "text": [
      "Row counts:  7554298\n",
      "root\n",
      " |-- TITLE_ID: string (nullable = true)\n",
      " |-- DIRECTORS: string (nullable = true)\n",
      " |-- WRITERS: string (nullable = true)\n",
      "\n",
      "+---------+---------+-------+\n",
      "| TITLE_ID|DIRECTORS|WRITERS|\n",
      "+---------+---------+-------+\n",
      "|tt0000001|nm0005690|   null|\n",
      "|tt0000002|nm0721526|   null|\n",
      "|tt0000003|nm0721526|   null|\n",
      "|tt0000004|nm0721526|   null|\n",
      "|tt0000005|nm0005690|   null|\n",
      "+---------+---------+-------+\n",
      "only showing top 5 rows\n",
      "\n"
     ]
    }
   ],
   "source": [
    "# Read and clean table\n",
    "crew_df = spark.read.csv(title_crew_path, sep=r'\\t', header=True)\n",
    "\n",
    "crew_df = crew_df.withColumn(\"writers\", blank_as_null(\"writers\"))\n",
    "crew_df = crew_df.withColumn(\"directors\", blank_as_null(\"directors\"))\n",
    "\n",
    "crew_df = crew_df.selectExpr(\"tconst as TITLE_ID\", \"directors as DIRECTORS\", \"writers as WRITERS\")\n",
    "                             \n",
    "print(\"Row counts: \", crew_df.count())\n",
    "crew_df.printSchema()\n",
    "crew_df.show(5)"
   ]
  },
  {
   "cell_type": "code",
   "execution_count": 73,
   "metadata": {},
   "outputs": [
    {
     "data": {
      "text/plain": [
       "[Row(max(TITLE_ID)=10, max(WRITERS)=12469, max(DIRECTORS)=4697)]"
      ]
     },
     "execution_count": 73,
     "metadata": {},
     "output_type": "execute_result"
    }
   ],
   "source": [
    "# Check length of string columns\n",
    "length_df = crew_df.withColumn('TITLE_ID', length(\"TITLE_ID\")) \\\n",
    "                   .withColumn('DIRECTORS', length(\"DIRECTORS\"))       \\\n",
    "                   .withColumn('WRITERS', length(\"WRITERS\"))     \n",
    "                        \n",
    "                   \n",
    "\n",
    "max_length = length_df.agg({\"TITLE_ID\": \"max\", \"DIRECTORS\": \"max\" , \"WRITERS\": \"max\"\n",
    "                               }).collect()\n",
    "\n",
    "max_length"
   ]
  },
  {
   "cell_type": "code",
   "execution_count": 18,
   "metadata": {},
   "outputs": [],
   "source": [
    "# Save to parquet on S3\n",
    "output_path = \"s3a://udacity-dend-capstone-1995/parquet/imdb-crew/imdb_crew.parquet\"\n",
    "crew_df.write.parquet(output_path, 'overwrite')\n",
    "\n",
    "del crew_df"
   ]
  },
  {
   "cell_type": "markdown",
   "metadata": {},
   "source": [
    "## Load title-episode.tsv"
   ]
  },
  {
   "cell_type": "code",
   "execution_count": 74,
   "metadata": {},
   "outputs": [
    {
     "data": {
      "text/plain": [
       "'s3a://udacity-dend-capstone-1995/datasets/imdb/title-episode.tsv'"
      ]
     },
     "execution_count": 74,
     "metadata": {},
     "output_type": "execute_result"
    }
   ],
   "source": [
    "title_episode_path = s3_bucket + 'title-episode.tsv'\n",
    "title_episode_path"
   ]
  },
  {
   "cell_type": "code",
   "execution_count": 75,
   "metadata": {},
   "outputs": [
    {
     "name": "stdout",
     "output_type": "stream",
     "text": [
      "Row counts:  5471901\n",
      "root\n",
      " |-- TITLE_ID: string (nullable = true)\n",
      " |-- PARENT_TITLE_ID: string (nullable = true)\n",
      " |-- SEASON_NUMBER: integer (nullable = true)\n",
      " |-- EPISODE_NUMBER: integer (nullable = true)\n",
      "\n",
      "+---------+---------------+-------------+--------------+\n",
      "| TITLE_ID|PARENT_TITLE_ID|SEASON_NUMBER|EPISODE_NUMBER|\n",
      "+---------+---------------+-------------+--------------+\n",
      "|tt0041951|      tt0041038|            1|             9|\n",
      "|tt0042816|      tt0989125|            1|            17|\n",
      "|tt0042889|      tt0989125|         null|          null|\n",
      "|tt0043426|      tt0040051|            3|            42|\n",
      "|tt0043631|      tt0989125|            2|            16|\n",
      "+---------+---------------+-------------+--------------+\n",
      "only showing top 5 rows\n",
      "\n"
     ]
    }
   ],
   "source": [
    "# Read and clean table\n",
    "episode_df = spark.read.csv(title_episode_path, sep=r'\\t', header=True)\n",
    "\n",
    "episode_df = episode_df.withColumn(\"parentTconst\", blank_as_null(\"parentTconst\"))\n",
    "episode_df = episode_df.withColumn(\"seasonNumber\", blank_as_null(\"seasonNumber\"))\n",
    "episode_df = episode_df.withColumn(\"episodeNumber\", blank_as_null(\"episodeNumber\"))\n",
    "\n",
    "episode_df = episode_df.withColumn(\"seasonNumber\", episode_df[\"seasonNumber\"].cast(IntegerType()))\n",
    "episode_df = episode_df.withColumn(\"episodeNumber\", episode_df[\"episodeNumber\"].cast(IntegerType()))\n",
    "\n",
    "episode_df = episode_df.selectExpr(\"tconst as TITLE_ID\", \"parentTconst as PARENT_TITLE_ID\", \"seasonNumber as SEASON_NUMBER\", \n",
    "                                   \"episodeNumber as EPISODE_NUMBER\")\n",
    "        \n",
    "print(\"Row counts: \", episode_df.count())\n",
    "episode_df.printSchema()\n",
    "episode_df.show(5)"
   ]
  },
  {
   "cell_type": "code",
   "execution_count": 76,
   "metadata": {},
   "outputs": [
    {
     "data": {
      "text/plain": [
       "[Row(max(TITLE_ID)=10, max(PARENT_TITLE_ID)=10)]"
      ]
     },
     "execution_count": 76,
     "metadata": {},
     "output_type": "execute_result"
    }
   ],
   "source": [
    "# Check length of string columns\n",
    "length_df = episode_df.withColumn('TITLE_ID', length(\"TITLE_ID\")) \\\n",
    "                   .withColumn('PARENT_TITLE_ID', length(\"PARENT_TITLE_ID\"))                          \n",
    "\n",
    "max_length = length_df.agg({\"TITLE_ID\": \"max\", \"PARENT_TITLE_ID\": \"max\"\n",
    "                               }).collect()\n",
    "\n",
    "max_length"
   ]
  },
  {
   "cell_type": "code",
   "execution_count": 21,
   "metadata": {},
   "outputs": [],
   "source": [
    "# Save to parquet on S3\n",
    "output_path = \"s3a://udacity-dend-capstone-1995/parquet/imdb-episode/imdb_episode.parquet\"\n",
    "episode_df.write.parquet(output_path, 'overwrite')\n",
    "\n",
    "del episode_df"
   ]
  },
  {
   "cell_type": "markdown",
   "metadata": {},
   "source": [
    "## Load title-ratings.tsv"
   ]
  },
  {
   "cell_type": "code",
   "execution_count": 77,
   "metadata": {},
   "outputs": [
    {
     "data": {
      "text/plain": [
       "'s3a://udacity-dend-capstone-1995/datasets/imdb/title-ratings.tsv'"
      ]
     },
     "execution_count": 77,
     "metadata": {},
     "output_type": "execute_result"
    }
   ],
   "source": [
    "title_ratings_path = s3_bucket + 'title-ratings.tsv'\n",
    "title_ratings_path"
   ]
  },
  {
   "cell_type": "code",
   "execution_count": 78,
   "metadata": {},
   "outputs": [
    {
     "name": "stdout",
     "output_type": "stream",
     "text": [
      "Row counts:  1116071\n",
      "root\n",
      " |-- TITLE_ID: string (nullable = true)\n",
      " |-- AVERAGE_RATING: double (nullable = true)\n",
      " |-- NUM_VOTES: integer (nullable = true)\n",
      "\n",
      "+---------+--------------+---------+\n",
      "| TITLE_ID|AVERAGE_RATING|NUM_VOTES|\n",
      "+---------+--------------+---------+\n",
      "|tt0000001|           5.7|     1677|\n",
      "|tt0000002|           6.1|      208|\n",
      "|tt0000003|           6.5|     1403|\n",
      "|tt0000004|           6.2|      123|\n",
      "|tt0000005|           6.2|     2197|\n",
      "+---------+--------------+---------+\n",
      "only showing top 5 rows\n",
      "\n"
     ]
    }
   ],
   "source": [
    "# Read and clean table\n",
    "rating_df = spark.read.csv(title_ratings_path, sep=r'\\t', header=True)\n",
    "\n",
    "rating_df = rating_df.withColumn(\"averageRating\", blank_as_null(\"averageRating\"))\n",
    "rating_df = rating_df.withColumn(\"numVotes\", blank_as_null(\"numVotes\"))\n",
    "\n",
    "rating_df = rating_df.withColumn(\"numVotes\", rating_df[\"numVotes\"].cast(IntegerType()))\n",
    "rating_df = rating_df.withColumn(\"averageRating\", rating_df[\"averageRating\"].cast(DoubleType()))\n",
    "\n",
    "rating_df = rating_df.selectExpr(\"tconst as TITLE_ID\", \"averageRating as AVERAGE_RATING\", \"numVotes as NUM_VOTES\")\n",
    "                                   \n",
    "print(\"Row counts: \", rating_df.count())\n",
    "rating_df.printSchema()\n",
    "rating_df.show(5)"
   ]
  },
  {
   "cell_type": "code",
   "execution_count": 24,
   "metadata": {},
   "outputs": [],
   "source": [
    "# Save to parquet on S3\n",
    "output_path = \"s3a://udacity-dend-capstone-1995/parquet/imdb-rating/imdb_rating.parquet\"\n",
    "rating_df.write.parquet(output_path, 'overwrite')\n",
    "\n",
    "del rating_df"
   ]
  },
  {
   "cell_type": "markdown",
   "metadata": {},
   "source": [
    "## Load name-basics.tsv"
   ]
  },
  {
   "cell_type": "code",
   "execution_count": 79,
   "metadata": {},
   "outputs": [
    {
     "data": {
      "text/plain": [
       "'s3a://udacity-dend-capstone-1995/datasets/imdb/name-basics.tsv'"
      ]
     },
     "execution_count": 79,
     "metadata": {},
     "output_type": "execute_result"
    }
   ],
   "source": [
    "name_basics_path = s3_bucket + 'name-basics.tsv'\n",
    "name_basics_path"
   ]
  },
  {
   "cell_type": "code",
   "execution_count": 80,
   "metadata": {},
   "outputs": [
    {
     "name": "stdout",
     "output_type": "stream",
     "text": [
      "Row counts:  10671837\n",
      "root\n",
      " |-- NAME_ID: string (nullable = true)\n",
      " |-- PRIMARY_NAME: string (nullable = true)\n",
      " |-- BIRTH_YEAR: integer (nullable = true)\n",
      " |-- DEATH_YEAR: integer (nullable = true)\n",
      " |-- PRIMARY_PROFESSION: string (nullable = true)\n",
      " |-- KNOWN_FOR_TITLES: string (nullable = true)\n",
      "\n",
      "+---------+---------------+----------+----------+--------------------+--------------------+\n",
      "|  NAME_ID|   PRIMARY_NAME|BIRTH_YEAR|DEATH_YEAR|  PRIMARY_PROFESSION|    KNOWN_FOR_TITLES|\n",
      "+---------+---------------+----------+----------+--------------------+--------------------+\n",
      "|nm0000001|   Fred Astaire|      1899|      1987|soundtrack,actor,...|tt0050419,tt00531...|\n",
      "|nm0000002|  Lauren Bacall|      1924|      2014|  actress,soundtrack|tt0117057,tt00383...|\n",
      "|nm0000003|Brigitte Bardot|      1934|      null|actress,soundtrac...|tt0049189,tt00599...|\n",
      "|nm0000004|   John Belushi|      1949|      1982|actor,soundtrack,...|tt0080455,tt00779...|\n",
      "|nm0000005| Ingmar Bergman|      1918|      2007|writer,director,a...|tt0050976,tt00839...|\n",
      "+---------+---------------+----------+----------+--------------------+--------------------+\n",
      "only showing top 5 rows\n",
      "\n"
     ]
    }
   ],
   "source": [
    "# Read and clean table\n",
    "name_basic_df = spark.read.csv(name_basics_path, sep=r'\\t', header=True)\n",
    "\n",
    "name_basic_df = name_basic_df.withColumn(\"primaryName\", blank_as_null(\"primaryName\"))\n",
    "name_basic_df = name_basic_df.withColumn(\"birthYear\", blank_as_null(\"birthYear\"))\n",
    "name_basic_df = name_basic_df.withColumn(\"deathYear\", blank_as_null(\"deathYear\"))\n",
    "name_basic_df = name_basic_df.withColumn(\"primaryProfession\", blank_as_null(\"primaryProfession\"))\n",
    "name_basic_df = name_basic_df.withColumn(\"knownForTitles\", blank_as_null(\"knownForTitles\"))\n",
    "\n",
    "name_basic_df = name_basic_df.withColumn(\"birthYear\", name_basic_df[\"birthYear\"].cast(IntegerType()))\n",
    "name_basic_df = name_basic_df.withColumn(\"deathYear\", name_basic_df[\"deathYear\"].cast(IntegerType()))\n",
    "\n",
    "name_basic_df = name_basic_df.selectExpr(\"nconst as NAME_ID\", \"primaryName as PRIMARY_NAME\", \"birthYear as BIRTH_YEAR\", \n",
    "                                         \"deathYear as DEATH_YEAR\", \"primaryProfession as PRIMARY_PROFESSION\", \"knownForTitles as KNOWN_FOR_TITLES\")\n",
    "\n",
    "print(\"Row counts: \", name_basic_df.count())\n",
    "name_basic_df.printSchema()\n",
    "name_basic_df.show(5)"
   ]
  },
  {
   "cell_type": "code",
   "execution_count": 84,
   "metadata": {},
   "outputs": [
    {
     "data": {
      "text/plain": [
       "[Row(max(NAME_ID)=10, max(KNOWN_FOR_TITLES)=72, max(PRIMARY_NAME)=105, max(PRIMARY_PROFESSION)=66)]"
      ]
     },
     "execution_count": 84,
     "metadata": {},
     "output_type": "execute_result"
    }
   ],
   "source": [
    "# Check length of string columns\n",
    "length_df = name_basic_df.withColumn('NAME_ID', length(\"NAME_ID\")) \\\n",
    "                   .withColumn('PRIMARY_NAME', length(\"PRIMARY_NAME\")).withColumn('PRIMARY_PROFESSION', length(\"PRIMARY_PROFESSION\")).withColumn('KNOWN_FOR_TITLES', length(\"KNOWN_FOR_TITLES\"))      \n",
    "\n",
    "max_length = length_df.agg({\"NAME_ID\": \"max\", \"PRIMARY_NAME\": \"max\",\n",
    "                            \"PRIMARY_PROFESSION\": \"max\", \"KNOWN_FOR_TITLES\": \"max\"\n",
    "                               }).collect()\n",
    "\n",
    "max_length"
   ]
  },
  {
   "cell_type": "code",
   "execution_count": 27,
   "metadata": {},
   "outputs": [],
   "source": [
    "# Save to parquet on S3\n",
    "output_path = \"s3a://udacity-dend-capstone-1995/parquet/imdb-name-basic/imdb_name_basic.parquet\"\n",
    "name_basic_df.write.parquet(output_path, 'overwrite')\n",
    "\n",
    "del name_basic_df"
   ]
  },
  {
   "cell_type": "markdown",
   "metadata": {},
   "source": [
    "# Load kaggle-movie-dataset\n",
    "Contains 5 csv files: movies_metadata.csv, keywords.csv, links.csv, credits.csv, ratings.csv\n",
    "\n",
    "## Load movies_metadata.csv"
   ]
  },
  {
   "cell_type": "code",
   "execution_count": 85,
   "metadata": {},
   "outputs": [
    {
     "data": {
      "text/plain": [
       "'s3a://udacity-dend-capstone-1995/datasets/kaggle-movie-dataset/movies_metadata.csv'"
      ]
     },
     "execution_count": 85,
     "metadata": {},
     "output_type": "execute_result"
    }
   ],
   "source": [
    "filepath = \"s3a://udacity-dend-capstone-1995/datasets/kaggle-movie-dataset/movies_metadata.csv\"\n",
    "filepath"
   ]
  },
  {
   "cell_type": "code",
   "execution_count": 91,
   "metadata": {},
   "outputs": [
    {
     "name": "stdout",
     "output_type": "stream",
     "text": [
      "Row counts:  45363\n",
      "root\n",
      " |-- ADULT: string (nullable = true)\n",
      " |-- BELONGS_TO_COLLECTION: string (nullable = true)\n",
      " |-- BUDGET: integer (nullable = true)\n",
      " |-- GENRES: string (nullable = true)\n",
      " |-- HOMEPAGE: string (nullable = true)\n",
      " |-- TMDB_ID: integer (nullable = true)\n",
      " |-- IMDB_ID: string (nullable = true)\n",
      " |-- ORIGINAL_LANGUAGE: string (nullable = true)\n",
      " |-- ORIGINAL_TITLE: string (nullable = true)\n",
      " |-- OVERVIEW: string (nullable = true)\n",
      " |-- POPULARITY: string (nullable = true)\n",
      " |-- POSTER_PATH: string (nullable = true)\n",
      " |-- PRODUCTION_COMPANIES: string (nullable = true)\n",
      " |-- PRODUCTION_COUNTRIES: string (nullable = true)\n",
      " |-- RELEASE_DATE: string (nullable = true)\n",
      " |-- REVENUE: integer (nullable = true)\n",
      " |-- RUNTIME: double (nullable = true)\n",
      " |-- SPOKEN_LANGUAGES: string (nullable = true)\n",
      " |-- STATUS: string (nullable = true)\n",
      " |-- TAGLINE: string (nullable = true)\n",
      " |-- TITLE: string (nullable = true)\n",
      " |-- IS_VIDEO: string (nullable = true)\n",
      " |-- VOTE_AVERAGE: double (nullable = true)\n",
      " |-- VOTE_COUNT: integer (nullable = true)\n",
      "\n"
     ]
    },
    {
     "data": {
      "text/html": [
       "<div>\n",
       "<style scoped>\n",
       "    .dataframe tbody tr th:only-of-type {\n",
       "        vertical-align: middle;\n",
       "    }\n",
       "\n",
       "    .dataframe tbody tr th {\n",
       "        vertical-align: top;\n",
       "    }\n",
       "\n",
       "    .dataframe thead th {\n",
       "        text-align: right;\n",
       "    }\n",
       "</style>\n",
       "<table border=\"1\" class=\"dataframe\">\n",
       "  <thead>\n",
       "    <tr style=\"text-align: right;\">\n",
       "      <th></th>\n",
       "      <th>ADULT</th>\n",
       "      <th>BELONGS_TO_COLLECTION</th>\n",
       "      <th>BUDGET</th>\n",
       "      <th>GENRES</th>\n",
       "      <th>HOMEPAGE</th>\n",
       "      <th>TMDB_ID</th>\n",
       "      <th>IMDB_ID</th>\n",
       "      <th>ORIGINAL_LANGUAGE</th>\n",
       "      <th>ORIGINAL_TITLE</th>\n",
       "      <th>OVERVIEW</th>\n",
       "      <th>...</th>\n",
       "      <th>RELEASE_DATE</th>\n",
       "      <th>REVENUE</th>\n",
       "      <th>RUNTIME</th>\n",
       "      <th>SPOKEN_LANGUAGES</th>\n",
       "      <th>STATUS</th>\n",
       "      <th>TAGLINE</th>\n",
       "      <th>TITLE</th>\n",
       "      <th>IS_VIDEO</th>\n",
       "      <th>VOTE_AVERAGE</th>\n",
       "      <th>VOTE_COUNT</th>\n",
       "    </tr>\n",
       "  </thead>\n",
       "  <tbody>\n",
       "    <tr>\n",
       "      <th>0</th>\n",
       "      <td>False</td>\n",
       "      <td>{'id': 10194, 'name': 'Toy Story Collection', ...</td>\n",
       "      <td>30000000</td>\n",
       "      <td>[{'id': 16, 'name': 'Animation'}, {'id': 35, '...</td>\n",
       "      <td>http://toystory.disney.com/toy-story</td>\n",
       "      <td>862</td>\n",
       "      <td>tt0114709</td>\n",
       "      <td>en</td>\n",
       "      <td>Toy Story</td>\n",
       "      <td>Led by Woody, Andy's toys live happily in his ...</td>\n",
       "      <td>...</td>\n",
       "      <td>1995-10-30</td>\n",
       "      <td>373554033.0</td>\n",
       "      <td>81.0</td>\n",
       "      <td>[{'iso_639_1': 'en', 'name': 'English'}]</td>\n",
       "      <td>Released</td>\n",
       "      <td>None</td>\n",
       "      <td>Toy Story</td>\n",
       "      <td>False</td>\n",
       "      <td>7.7</td>\n",
       "      <td>5415.0</td>\n",
       "    </tr>\n",
       "    <tr>\n",
       "      <th>1</th>\n",
       "      <td>False</td>\n",
       "      <td>None</td>\n",
       "      <td>65000000</td>\n",
       "      <td>[{'id': 12, 'name': 'Adventure'}, {'id': 14, '...</td>\n",
       "      <td>None</td>\n",
       "      <td>8844</td>\n",
       "      <td>tt0113497</td>\n",
       "      <td>en</td>\n",
       "      <td>Jumanji</td>\n",
       "      <td>When siblings Judy and Peter discover an encha...</td>\n",
       "      <td>...</td>\n",
       "      <td>1995-12-15</td>\n",
       "      <td>262797249.0</td>\n",
       "      <td>104.0</td>\n",
       "      <td>[{'iso_639_1': 'en', 'name': 'English'}, {'iso...</td>\n",
       "      <td>Released</td>\n",
       "      <td>Roll the dice and unleash the excitement!</td>\n",
       "      <td>Jumanji</td>\n",
       "      <td>False</td>\n",
       "      <td>6.9</td>\n",
       "      <td>2413.0</td>\n",
       "    </tr>\n",
       "    <tr>\n",
       "      <th>2</th>\n",
       "      <td>False</td>\n",
       "      <td>{'id': 119050, 'name': 'Grumpy Old Men Collect...</td>\n",
       "      <td>0</td>\n",
       "      <td>[{'id': 10749, 'name': 'Romance'}, {'id': 35, ...</td>\n",
       "      <td>None</td>\n",
       "      <td>15602</td>\n",
       "      <td>tt0113228</td>\n",
       "      <td>en</td>\n",
       "      <td>Grumpier Old Men</td>\n",
       "      <td>A family wedding reignites the ancient feud be...</td>\n",
       "      <td>...</td>\n",
       "      <td>1995-12-22</td>\n",
       "      <td>0.0</td>\n",
       "      <td>101.0</td>\n",
       "      <td>[{'iso_639_1': 'en', 'name': 'English'}]</td>\n",
       "      <td>Released</td>\n",
       "      <td>Still Yelling. Still Fighting. Still Ready for...</td>\n",
       "      <td>Grumpier Old Men</td>\n",
       "      <td>False</td>\n",
       "      <td>6.5</td>\n",
       "      <td>92.0</td>\n",
       "    </tr>\n",
       "    <tr>\n",
       "      <th>3</th>\n",
       "      <td>False</td>\n",
       "      <td>None</td>\n",
       "      <td>16000000</td>\n",
       "      <td>[{'id': 35, 'name': 'Comedy'}, {'id': 18, 'nam...</td>\n",
       "      <td>None</td>\n",
       "      <td>31357</td>\n",
       "      <td>tt0114885</td>\n",
       "      <td>en</td>\n",
       "      <td>Waiting to Exhale</td>\n",
       "      <td>\"Cheated on, mistreated and stepped on, the wo...</td>\n",
       "      <td>...</td>\n",
       "      <td>/16XOMpEaLWkrcPqSQqhTmeJuqQl.jpg</td>\n",
       "      <td>NaN</td>\n",
       "      <td>NaN</td>\n",
       "      <td>1995-12-22</td>\n",
       "      <td>81452156</td>\n",
       "      <td>127.0</td>\n",
       "      <td>[{'iso_639_1': 'en', 'name': 'English'}]</td>\n",
       "      <td>Released</td>\n",
       "      <td>NaN</td>\n",
       "      <td>NaN</td>\n",
       "    </tr>\n",
       "    <tr>\n",
       "      <th>4</th>\n",
       "      <td>False</td>\n",
       "      <td>{'id': 96871, 'name': 'Father of the Bride Col...</td>\n",
       "      <td>0</td>\n",
       "      <td>[{'id': 35, 'name': 'Comedy'}]</td>\n",
       "      <td>None</td>\n",
       "      <td>11862</td>\n",
       "      <td>tt0113041</td>\n",
       "      <td>en</td>\n",
       "      <td>Father of the Bride Part II</td>\n",
       "      <td>Just when George Banks has recovered from his ...</td>\n",
       "      <td>...</td>\n",
       "      <td>1995-02-10</td>\n",
       "      <td>76578911.0</td>\n",
       "      <td>106.0</td>\n",
       "      <td>[{'iso_639_1': 'en', 'name': 'English'}]</td>\n",
       "      <td>Released</td>\n",
       "      <td>Just When His World Is Back To Normal... He's ...</td>\n",
       "      <td>Father of the Bride Part II</td>\n",
       "      <td>False</td>\n",
       "      <td>5.7</td>\n",
       "      <td>173.0</td>\n",
       "    </tr>\n",
       "  </tbody>\n",
       "</table>\n",
       "<p>5 rows × 24 columns</p>\n",
       "</div>"
      ],
      "text/plain": [
       "   ADULT                              BELONGS_TO_COLLECTION    BUDGET  \\\n",
       "0  False  {'id': 10194, 'name': 'Toy Story Collection', ...  30000000   \n",
       "1  False                                               None  65000000   \n",
       "2  False  {'id': 119050, 'name': 'Grumpy Old Men Collect...         0   \n",
       "3  False                                               None  16000000   \n",
       "4  False  {'id': 96871, 'name': 'Father of the Bride Col...         0   \n",
       "\n",
       "                                              GENRES  \\\n",
       "0  [{'id': 16, 'name': 'Animation'}, {'id': 35, '...   \n",
       "1  [{'id': 12, 'name': 'Adventure'}, {'id': 14, '...   \n",
       "2  [{'id': 10749, 'name': 'Romance'}, {'id': 35, ...   \n",
       "3  [{'id': 35, 'name': 'Comedy'}, {'id': 18, 'nam...   \n",
       "4                     [{'id': 35, 'name': 'Comedy'}]   \n",
       "\n",
       "                               HOMEPAGE  TMDB_ID    IMDB_ID ORIGINAL_LANGUAGE  \\\n",
       "0  http://toystory.disney.com/toy-story      862  tt0114709                en   \n",
       "1                                  None     8844  tt0113497                en   \n",
       "2                                  None    15602  tt0113228                en   \n",
       "3                                  None    31357  tt0114885                en   \n",
       "4                                  None    11862  tt0113041                en   \n",
       "\n",
       "                ORIGINAL_TITLE  \\\n",
       "0                    Toy Story   \n",
       "1                      Jumanji   \n",
       "2             Grumpier Old Men   \n",
       "3            Waiting to Exhale   \n",
       "4  Father of the Bride Part II   \n",
       "\n",
       "                                            OVERVIEW    ...      \\\n",
       "0  Led by Woody, Andy's toys live happily in his ...    ...       \n",
       "1  When siblings Judy and Peter discover an encha...    ...       \n",
       "2  A family wedding reignites the ancient feud be...    ...       \n",
       "3  \"Cheated on, mistreated and stepped on, the wo...    ...       \n",
       "4  Just when George Banks has recovered from his ...    ...       \n",
       "\n",
       "                       RELEASE_DATE      REVENUE RUNTIME  \\\n",
       "0                        1995-10-30  373554033.0    81.0   \n",
       "1                        1995-12-15  262797249.0   104.0   \n",
       "2                        1995-12-22          0.0   101.0   \n",
       "3  /16XOMpEaLWkrcPqSQqhTmeJuqQl.jpg          NaN     NaN   \n",
       "4                        1995-02-10   76578911.0   106.0   \n",
       "\n",
       "                                    SPOKEN_LANGUAGES    STATUS  \\\n",
       "0           [{'iso_639_1': 'en', 'name': 'English'}]  Released   \n",
       "1  [{'iso_639_1': 'en', 'name': 'English'}, {'iso...  Released   \n",
       "2           [{'iso_639_1': 'en', 'name': 'English'}]  Released   \n",
       "3                                         1995-12-22  81452156   \n",
       "4           [{'iso_639_1': 'en', 'name': 'English'}]  Released   \n",
       "\n",
       "                                             TAGLINE  \\\n",
       "0                                               None   \n",
       "1          Roll the dice and unleash the excitement!   \n",
       "2  Still Yelling. Still Fighting. Still Ready for...   \n",
       "3                                              127.0   \n",
       "4  Just When His World Is Back To Normal... He's ...   \n",
       "\n",
       "                                      TITLE  IS_VIDEO VOTE_AVERAGE VOTE_COUNT  \n",
       "0                                 Toy Story     False          7.7     5415.0  \n",
       "1                                   Jumanji     False          6.9     2413.0  \n",
       "2                          Grumpier Old Men     False          6.5       92.0  \n",
       "3  [{'iso_639_1': 'en', 'name': 'English'}]  Released          NaN        NaN  \n",
       "4               Father of the Bride Part II     False          5.7      173.0  \n",
       "\n",
       "[5 rows x 24 columns]"
      ]
     },
     "execution_count": 91,
     "metadata": {},
     "output_type": "execute_result"
    }
   ],
   "source": [
    "# Read and clean table\n",
    "movie_df = spark.read.csv(filepath, header=True)\n",
    "\n",
    "movie_df = movie_df.withColumn(\"budget\", movie_df[\"budget\"].cast(IntegerType()))\n",
    "movie_df = movie_df.withColumn(\"revenue\", movie_df[\"revenue\"].cast(IntegerType()))\n",
    "movie_df = movie_df.withColumn(\"id\", movie_df[\"id\"].cast(IntegerType()))\n",
    "movie_df = movie_df.where(col(\"id\").isNotNull())\n",
    "movie_df = movie_df.withColumn(\"runtime\", movie_df[\"runtime\"].cast(DoubleType()))\n",
    "movie_df = movie_df.withColumn(\"vote_average\", movie_df[\"vote_average\"].cast(DoubleType()))\n",
    "movie_df = movie_df.withColumn(\"vote_count\", movie_df[\"vote_count\"].cast(IntegerType()))\n",
    "\n",
    "movie_df = movie_df.selectExpr(\"adult as ADULT\", \"belongs_to_collection as BELONGS_TO_COLLECTION\", \"budget as BUDGET\", \"genres as GENRES\",\n",
    "                               \"homepage as HOMEPAGE\", \"id as TMDB_ID\", \"imdb_id as IMDB_ID\", \"original_language as ORIGINAL_LANGUAGE\",\n",
    "                               \"original_title as ORIGINAL_TITLE\", \"overview as OVERVIEW\", \"popularity as POPULARITY\", \"poster_path as POSTER_PATH\",\n",
    "                               \"production_companies as PRODUCTION_COMPANIES\", \"production_countries as PRODUCTION_COUNTRIES\", \"release_date as RELEASE_DATE\", \"revenue as REVENUE\",\n",
    "                               \"runtime as RUNTIME\", \"spoken_languages as SPOKEN_LANGUAGES\", \"status as STATUS\", \"tagline as TAGLINE\",\n",
    "                               \"title as TITLE\", \"video as IS_VIDEO\", \"vote_average as VOTE_AVERAGE\", \"vote_count as VOTE_COUNT\"\n",
    "                              )\n",
    "\n",
    "print(\"Row counts: \", movie_df.count())\n",
    "movie_df.printSchema()\n",
    "movie_df.limit(5).toPandas().head(5)"
   ]
  },
  {
   "cell_type": "code",
   "execution_count": 88,
   "metadata": {},
   "outputs": [
    {
     "data": {
      "text/plain": [
       "[Row(max(POSTER_PATH)=958, max(POPULARITY)=666, max(IMDB_ID)=126, max(SPOKEN_LANGUAGES)=765, max(ORIGINAL_LANGUAGE)=131, max(STATUS)=753, max(ORIGINAL_TITLE)=165, max(TITLE)=295, max(TAGLINE)=350, max(BELONGS_TO_COLLECTION)=313, max(IS_VIDEO)=295, max(RELEASE_DATE)=694, max(GENRES)=264, max(PRODUCTION_COUNTRIES)=1039, max(HOMEPAGE)=251, max(OVERVIEW)=1000, max(PRODUCTION_COMPANIES)=1252, max(ADULT)=413)]"
      ]
     },
     "execution_count": 88,
     "metadata": {},
     "output_type": "execute_result"
    }
   ],
   "source": [
    "# Check length of string columns\n",
    "length_df = movie_df.withColumn('ADULT', length(movie_df.ADULT)).withColumn('BELONGS_TO_COLLECTION', length(movie_df.BELONGS_TO_COLLECTION)).withColumn('GENRES', length(movie_df.GENRES)) \\\n",
    "                   .withColumn('HOMEPAGE', length(movie_df.HOMEPAGE)).withColumn('IMDB_ID', length(movie_df.IMDB_ID)).withColumn('ORIGINAL_LANGUAGE', length(movie_df.ORIGINAL_LANGUAGE))       \\\n",
    "                   .withColumn('ORIGINAL_TITLE', length(movie_df.ORIGINAL_TITLE)).withColumn('OVERVIEW', length(movie_df.OVERVIEW)).withColumn('POPULARITY', length(movie_df.POPULARITY))     \\\n",
    "                   .withColumn('POSTER_PATH', length(movie_df.POSTER_PATH)).withColumn('PRODUCTION_COMPANIES', length(movie_df.PRODUCTION_COMPANIES)).withColumn('PRODUCTION_COUNTRIES', length(movie_df.PRODUCTION_COUNTRIES)) \\\n",
    "                   .withColumn('RELEASE_DATE', length(movie_df.RELEASE_DATE)).withColumn('SPOKEN_LANGUAGES', length(movie_df.SPOKEN_LANGUAGES)).withColumn('STATUS', length(movie_df.STATUS))       \\\n",
    "                   .withColumn('TAGLINE', length(movie_df.TAGLINE)).withColumn('TITLE', length(movie_df.TITLE)).withColumn('IS_VIDEO', length(movie_df.IS_VIDEO))\n",
    "\n",
    "max_length = length_df.agg({\"ADULT\": \"max\", \"BELONGS_TO_COLLECTION\": \"max\" , \"GENRES\": \"max\",\n",
    "                            \"HOMEPAGE\": \"max\", \"IMDB_ID\": \"max\", \"ORIGINAL_LANGUAGE\": \"max\",\n",
    "                            \"ORIGINAL_TITLE\": \"max\", \"OVERVIEW\": \"max\", \"POPULARITY\": \"max\",\n",
    "                            \"POSTER_PATH\": \"max\", \"PRODUCTION_COMPANIES\": \"max\", \"PRODUCTION_COUNTRIES\": \"max\",\n",
    "                            \"RELEASE_DATE\": \"max\", \"SPOKEN_LANGUAGES\": \"max\", \"STATUS\": \"max\",\n",
    "                            \"TAGLINE\": \"max\", \"TITLE\": \"max\", \"IS_VIDEO\": \"max\",\n",
    "                               }).collect()\n",
    "\n",
    "max_length"
   ]
  },
  {
   "cell_type": "code",
   "execution_count": 92,
   "metadata": {},
   "outputs": [],
   "source": [
    "# Save to parquet on S3\n",
    "output_path = \"s3a://udacity-dend-capstone-1995/parquet/kaggle-movie-metadata/kaggle_movie_metadata.parquet\"\n",
    "movie_df.write.parquet(output_path, 'overwrite')\n",
    "\n",
    "del movie_df"
   ]
  },
  {
   "cell_type": "markdown",
   "metadata": {},
   "source": [
    "## Load keywords.csv"
   ]
  },
  {
   "cell_type": "code",
   "execution_count": 93,
   "metadata": {},
   "outputs": [
    {
     "data": {
      "text/plain": [
       "'s3a://udacity-dend-capstone-1995/datasets/kaggle-movie-dataset/keywords.csv'"
      ]
     },
     "execution_count": 93,
     "metadata": {},
     "output_type": "execute_result"
    }
   ],
   "source": [
    "filepath = \"s3a://udacity-dend-capstone-1995/datasets/kaggle-movie-dataset/keywords.csv\"\n",
    "filepath"
   ]
  },
  {
   "cell_type": "code",
   "execution_count": 95,
   "metadata": {},
   "outputs": [
    {
     "name": "stdout",
     "output_type": "stream",
     "text": [
      "Row counts:  46419\n",
      "root\n",
      " |-- TMDB_ID: integer (nullable = true)\n",
      " |-- KEYWORDS: string (nullable = true)\n",
      "\n"
     ]
    },
    {
     "data": {
      "text/html": [
       "<div>\n",
       "<style scoped>\n",
       "    .dataframe tbody tr th:only-of-type {\n",
       "        vertical-align: middle;\n",
       "    }\n",
       "\n",
       "    .dataframe tbody tr th {\n",
       "        vertical-align: top;\n",
       "    }\n",
       "\n",
       "    .dataframe thead th {\n",
       "        text-align: right;\n",
       "    }\n",
       "</style>\n",
       "<table border=\"1\" class=\"dataframe\">\n",
       "  <thead>\n",
       "    <tr style=\"text-align: right;\">\n",
       "      <th></th>\n",
       "      <th>TMDB_ID</th>\n",
       "      <th>KEYWORDS</th>\n",
       "    </tr>\n",
       "  </thead>\n",
       "  <tbody>\n",
       "    <tr>\n",
       "      <th>0</th>\n",
       "      <td>862</td>\n",
       "      <td>[{'id': 931, 'name': 'jealousy'}, {'id': 4290,...</td>\n",
       "    </tr>\n",
       "    <tr>\n",
       "      <th>1</th>\n",
       "      <td>8844</td>\n",
       "      <td>\"[{'id': 10090, 'name': 'board game'}, {'id': ...</td>\n",
       "    </tr>\n",
       "    <tr>\n",
       "      <th>2</th>\n",
       "      <td>15602</td>\n",
       "      <td>[{'id': 1495, 'name': 'fishing'}, {'id': 12392...</td>\n",
       "    </tr>\n",
       "    <tr>\n",
       "      <th>3</th>\n",
       "      <td>31357</td>\n",
       "      <td>[{'id': 818, 'name': 'based on novel'}, {'id':...</td>\n",
       "    </tr>\n",
       "    <tr>\n",
       "      <th>4</th>\n",
       "      <td>11862</td>\n",
       "      <td>[{'id': 1009, 'name': 'baby'}, {'id': 1599, 'n...</td>\n",
       "    </tr>\n",
       "  </tbody>\n",
       "</table>\n",
       "</div>"
      ],
      "text/plain": [
       "   TMDB_ID                                           KEYWORDS\n",
       "0      862  [{'id': 931, 'name': 'jealousy'}, {'id': 4290,...\n",
       "1     8844  \"[{'id': 10090, 'name': 'board game'}, {'id': ...\n",
       "2    15602  [{'id': 1495, 'name': 'fishing'}, {'id': 12392...\n",
       "3    31357  [{'id': 818, 'name': 'based on novel'}, {'id':...\n",
       "4    11862  [{'id': 1009, 'name': 'baby'}, {'id': 1599, 'n..."
      ]
     },
     "execution_count": 95,
     "metadata": {},
     "output_type": "execute_result"
    }
   ],
   "source": [
    "# Read and clean table\n",
    "keyword_df = spark.read.csv(filepath, header=True)\n",
    "\n",
    "keyword_df = keyword_df.withColumn(\"id\", keyword_df[\"id\"].cast(IntegerType()))\n",
    "keyword_df = keyword_df.where(col(\"id\").isNotNull())\n",
    "keyword_df = keyword_df.selectExpr(\"id as TMDB_ID\", \"keywords as KEYWORDS\")\n",
    "\n",
    "print(\"Row counts: \", keyword_df.count())\n",
    "keyword_df.printSchema()\n",
    "keyword_df.limit(5).toPandas().head(5)"
   ]
  },
  {
   "cell_type": "code",
   "execution_count": 96,
   "metadata": {},
   "outputs": [
    {
     "data": {
      "text/plain": [
       "[Row(max(TMDB_ID)=6, max(KEYWORDS)=5305)]"
      ]
     },
     "execution_count": 96,
     "metadata": {},
     "output_type": "execute_result"
    }
   ],
   "source": [
    "# Check length of string columns\n",
    "length_df = keyword_df.withColumn('TMDB_ID', length(keyword_df.TMDB_ID))\\\n",
    "                   .withColumn('KEYWORDS', length(keyword_df.KEYWORDS))\n",
    "\n",
    "max_length = length_df.agg({\"TMDB_ID\": \"max\", \"KEYWORDS\": \"max\"\n",
    "                               }).collect()\n",
    "\n",
    "max_length"
   ]
  },
  {
   "cell_type": "code",
   "execution_count": 33,
   "metadata": {},
   "outputs": [],
   "source": [
    "# Save to parquet on S3\n",
    "output_path = \"s3a://udacity-dend-capstone-1995/parquet/kaggle-movie-keywords/kaggle_movie_keywords.parquet\"\n",
    "keyword_df.write.parquet(output_path, 'overwrite')\n",
    "\n",
    "del keyword_df"
   ]
  },
  {
   "cell_type": "markdown",
   "metadata": {},
   "source": [
    "## Load credits.csv"
   ]
  },
  {
   "cell_type": "code",
   "execution_count": 97,
   "metadata": {},
   "outputs": [
    {
     "data": {
      "text/plain": [
       "'s3a://udacity-dend-capstone-1995/datasets/kaggle-movie-dataset/credits.csv'"
      ]
     },
     "execution_count": 97,
     "metadata": {},
     "output_type": "execute_result"
    }
   ],
   "source": [
    "filepath = \"s3a://udacity-dend-capstone-1995/datasets/kaggle-movie-dataset/credits.csv\"\n",
    "filepath"
   ]
  },
  {
   "cell_type": "code",
   "execution_count": 98,
   "metadata": {},
   "outputs": [
    {
     "name": "stdout",
     "output_type": "stream",
     "text": [
      "Row counts:  30457\n",
      "root\n",
      " |-- TMDB_ID: integer (nullable = true)\n",
      " |-- MOVIE_CREW: string (nullable = true)\n",
      " |-- MOVIE_CAST: string (nullable = true)\n",
      "\n"
     ]
    },
    {
     "data": {
      "text/html": [
       "<div>\n",
       "<style scoped>\n",
       "    .dataframe tbody tr th:only-of-type {\n",
       "        vertical-align: middle;\n",
       "    }\n",
       "\n",
       "    .dataframe tbody tr th {\n",
       "        vertical-align: top;\n",
       "    }\n",
       "\n",
       "    .dataframe thead th {\n",
       "        text-align: right;\n",
       "    }\n",
       "</style>\n",
       "<table border=\"1\" class=\"dataframe\">\n",
       "  <thead>\n",
       "    <tr style=\"text-align: right;\">\n",
       "      <th></th>\n",
       "      <th>TMDB_ID</th>\n",
       "      <th>MOVIE_CREW</th>\n",
       "      <th>MOVIE_CAST</th>\n",
       "    </tr>\n",
       "  </thead>\n",
       "  <tbody>\n",
       "    <tr>\n",
       "      <th>0</th>\n",
       "      <td>8844</td>\n",
       "      <td>[{'credit_id': '52fe44bfc3a36847f80a7cd1', 'de...</td>\n",
       "      <td>[{'cast_id': 1, 'character': 'Alan Parrish', '...</td>\n",
       "    </tr>\n",
       "    <tr>\n",
       "      <th>1</th>\n",
       "      <td>15602</td>\n",
       "      <td>[{'credit_id': '52fe466a9251416c75077a89', 'de...</td>\n",
       "      <td>[{'cast_id': 2, 'character': 'Max Goldman', 'c...</td>\n",
       "    </tr>\n",
       "    <tr>\n",
       "      <th>2</th>\n",
       "      <td>11862</td>\n",
       "      <td>[{'credit_id': '52fe44959251416c75039ed7', 'de...</td>\n",
       "      <td>[{'cast_id': 1, 'character': 'George Banks', '...</td>\n",
       "    </tr>\n",
       "    <tr>\n",
       "      <th>3</th>\n",
       "      <td>11860</td>\n",
       "      <td>[{'credit_id': '52fe44959251416c75039da9', 'de...</td>\n",
       "      <td>[{'cast_id': 1, 'character': 'Linus Larrabee',...</td>\n",
       "    </tr>\n",
       "    <tr>\n",
       "      <th>4</th>\n",
       "      <td>45325</td>\n",
       "      <td>[{'credit_id': '52fe46bdc3a36847f810f797', 'de...</td>\n",
       "      <td>[{'cast_id': 2, 'character': 'Tom Sawyer', 'cr...</td>\n",
       "    </tr>\n",
       "  </tbody>\n",
       "</table>\n",
       "</div>"
      ],
      "text/plain": [
       "   TMDB_ID                                         MOVIE_CREW  \\\n",
       "0     8844  [{'credit_id': '52fe44bfc3a36847f80a7cd1', 'de...   \n",
       "1    15602  [{'credit_id': '52fe466a9251416c75077a89', 'de...   \n",
       "2    11862  [{'credit_id': '52fe44959251416c75039ed7', 'de...   \n",
       "3    11860  [{'credit_id': '52fe44959251416c75039da9', 'de...   \n",
       "4    45325  [{'credit_id': '52fe46bdc3a36847f810f797', 'de...   \n",
       "\n",
       "                                          MOVIE_CAST  \n",
       "0  [{'cast_id': 1, 'character': 'Alan Parrish', '...  \n",
       "1  [{'cast_id': 2, 'character': 'Max Goldman', 'c...  \n",
       "2  [{'cast_id': 1, 'character': 'George Banks', '...  \n",
       "3  [{'cast_id': 1, 'character': 'Linus Larrabee',...  \n",
       "4  [{'cast_id': 2, 'character': 'Tom Sawyer', 'cr...  "
      ]
     },
     "execution_count": 98,
     "metadata": {},
     "output_type": "execute_result"
    }
   ],
   "source": [
    "# Read and clean table\n",
    "credit_df = spark.read.csv(filepath, header=True)\n",
    "\n",
    "credit_df = credit_df.withColumn(\"id\", credit_df[\"id\"].cast(IntegerType()))\n",
    "credit_df = credit_df.where(col(\"id\").isNotNull())\n",
    "\n",
    "credit_df = credit_df.selectExpr(\"id as TMDB_ID\", \"crew as MOVIE_CREW\", \"cast as MOVIE_CAST\")\n",
    "\n",
    "print(\"Row counts: \", credit_df.count())\n",
    "credit_df.printSchema()\n",
    "credit_df.limit(5).toPandas().head(5)"
   ]
  },
  {
   "cell_type": "code",
   "execution_count": 100,
   "metadata": {},
   "outputs": [
    {
     "data": {
      "text/plain": [
       "[Row(max(MOVIE_CAST)=24701, max(MOVIE_CREW)=33198)]"
      ]
     },
     "execution_count": 100,
     "metadata": {},
     "output_type": "execute_result"
    }
   ],
   "source": [
    "# Check length of string columns\n",
    "length_df = credit_df.withColumn('MOVIE_CREW', length(credit_df.MOVIE_CREW))\\\n",
    "                   .withColumn('MOVIE_CAST', length(credit_df.MOVIE_CAST))\n",
    "\n",
    "max_length = length_df.agg({\"MOVIE_CREW\": \"max\", \"MOVIE_CAST\": \"max\"\n",
    "                               }).collect()\n",
    "\n",
    "max_length"
   ]
  },
  {
   "cell_type": "code",
   "execution_count": 101,
   "metadata": {},
   "outputs": [],
   "source": [
    "# Save to parquet on S3\n",
    "output_path = \"s3a://udacity-dend-capstone-1995/parquet/kaggle-movie-credits/kaggle_movie_credits.parquet\"\n",
    "credit_df.write.parquet(output_path, 'overwrite')\n",
    "\n",
    "del credit_df"
   ]
  },
  {
   "cell_type": "markdown",
   "metadata": {},
   "source": [
    "## Load links.csv"
   ]
  },
  {
   "cell_type": "code",
   "execution_count": 102,
   "metadata": {},
   "outputs": [
    {
     "data": {
      "text/plain": [
       "'s3a://udacity-dend-capstone-1995/datasets/kaggle-movie-dataset/links.csv'"
      ]
     },
     "execution_count": 102,
     "metadata": {},
     "output_type": "execute_result"
    }
   ],
   "source": [
    "filepath = \"s3a://udacity-dend-capstone-1995/datasets/kaggle-movie-dataset/links.csv\"\n",
    "filepath"
   ]
  },
  {
   "cell_type": "code",
   "execution_count": 103,
   "metadata": {},
   "outputs": [
    {
     "name": "stdout",
     "output_type": "stream",
     "text": [
      "Row counts:  45843\n",
      "root\n",
      " |-- LINKS_ID: integer (nullable = true)\n",
      " |-- TMDB_ID: integer (nullable = true)\n",
      " |-- IMDB_ID: string (nullable = true)\n",
      "\n"
     ]
    },
    {
     "data": {
      "text/html": [
       "<div>\n",
       "<style scoped>\n",
       "    .dataframe tbody tr th:only-of-type {\n",
       "        vertical-align: middle;\n",
       "    }\n",
       "\n",
       "    .dataframe tbody tr th {\n",
       "        vertical-align: top;\n",
       "    }\n",
       "\n",
       "    .dataframe thead th {\n",
       "        text-align: right;\n",
       "    }\n",
       "</style>\n",
       "<table border=\"1\" class=\"dataframe\">\n",
       "  <thead>\n",
       "    <tr style=\"text-align: right;\">\n",
       "      <th></th>\n",
       "      <th>LINKS_ID</th>\n",
       "      <th>TMDB_ID</th>\n",
       "      <th>IMDB_ID</th>\n",
       "    </tr>\n",
       "  </thead>\n",
       "  <tbody>\n",
       "    <tr>\n",
       "      <th>0</th>\n",
       "      <td>1</td>\n",
       "      <td>862</td>\n",
       "      <td>tt0114709</td>\n",
       "    </tr>\n",
       "    <tr>\n",
       "      <th>1</th>\n",
       "      <td>2</td>\n",
       "      <td>8844</td>\n",
       "      <td>tt0113497</td>\n",
       "    </tr>\n",
       "    <tr>\n",
       "      <th>2</th>\n",
       "      <td>3</td>\n",
       "      <td>15602</td>\n",
       "      <td>tt0113228</td>\n",
       "    </tr>\n",
       "    <tr>\n",
       "      <th>3</th>\n",
       "      <td>4</td>\n",
       "      <td>31357</td>\n",
       "      <td>tt0114885</td>\n",
       "    </tr>\n",
       "    <tr>\n",
       "      <th>4</th>\n",
       "      <td>5</td>\n",
       "      <td>11862</td>\n",
       "      <td>tt0113041</td>\n",
       "    </tr>\n",
       "  </tbody>\n",
       "</table>\n",
       "</div>"
      ],
      "text/plain": [
       "   LINKS_ID  TMDB_ID    IMDB_ID\n",
       "0         1      862  tt0114709\n",
       "1         2     8844  tt0113497\n",
       "2         3    15602  tt0113228\n",
       "3         4    31357  tt0114885\n",
       "4         5    11862  tt0113041"
      ]
     },
     "execution_count": 103,
     "metadata": {},
     "output_type": "execute_result"
    }
   ],
   "source": [
    "# Read and clean table\n",
    "links_df = spark.read.csv(filepath, header=True)\n",
    "\n",
    "links_df = links_df.withColumn(\"movieId\", links_df[\"movieId\"].cast(IntegerType()))\n",
    "links_df = links_df.withColumn(\"tmdbId\", links_df[\"tmdbId\"].cast(IntegerType()))\n",
    "\n",
    "links_df = links_df.withColumn(\"imdb_id\", concat(lit(\"tt\"), col(\"imdbId\") ) )\n",
    "\n",
    "links_df = links_df.drop('imdbId')\n",
    "\n",
    "links_df = links_df.selectExpr(\"movieId as LINKS_ID\", \"tmdbId as TMDB_ID\", \"imdb_id as IMDB_ID\")\n",
    "\n",
    "print(\"Row counts: \", links_df.count())\n",
    "links_df.printSchema()\n",
    "links_df.limit(5).toPandas().head(5)"
   ]
  },
  {
   "cell_type": "code",
   "execution_count": 105,
   "metadata": {},
   "outputs": [
    {
     "data": {
      "text/plain": [
       "[Row(max(IMDB_ID)=9)]"
      ]
     },
     "execution_count": 105,
     "metadata": {},
     "output_type": "execute_result"
    }
   ],
   "source": [
    "# Check length of string columns\n",
    "length_df = links_df.withColumn('IMDB_ID', length(links_df.IMDB_ID))\n",
    "                   \n",
    "max_length = length_df.agg({\"IMDB_ID\": \"max\"\n",
    "                               }).collect()\n",
    "\n",
    "max_length"
   ]
  },
  {
   "cell_type": "code",
   "execution_count": 39,
   "metadata": {},
   "outputs": [],
   "source": [
    "# Save to parquet on S3\n",
    "output_path = \"s3a://udacity-dend-capstone-1995/parquet/kaggle-movie-links/kaggle_movie_links.parquet\"\n",
    "links_df.write.parquet(output_path, 'overwrite')\n",
    "\n",
    "del links_df"
   ]
  },
  {
   "cell_type": "markdown",
   "metadata": {},
   "source": [
    "## Load ratings.csv"
   ]
  },
  {
   "cell_type": "code",
   "execution_count": 106,
   "metadata": {},
   "outputs": [
    {
     "data": {
      "text/plain": [
       "'s3a://udacity-dend-capstone-1995/datasets/kaggle-movie-dataset/ratings.csv'"
      ]
     },
     "execution_count": 106,
     "metadata": {},
     "output_type": "execute_result"
    }
   ],
   "source": [
    "filepath = \"s3a://udacity-dend-capstone-1995/datasets/kaggle-movie-dataset/ratings.csv\"\n",
    "filepath"
   ]
  },
  {
   "cell_type": "code",
   "execution_count": 107,
   "metadata": {},
   "outputs": [
    {
     "name": "stdout",
     "output_type": "stream",
     "text": [
      "Row counts:  26024289\n",
      "root\n",
      " |-- USER_ID: integer (nullable = true)\n",
      " |-- TMDB_ID: integer (nullable = true)\n",
      " |-- RATING: double (nullable = true)\n",
      " |-- TIMESTAMP: long (nullable = true)\n",
      "\n"
     ]
    },
    {
     "data": {
      "text/html": [
       "<div>\n",
       "<style scoped>\n",
       "    .dataframe tbody tr th:only-of-type {\n",
       "        vertical-align: middle;\n",
       "    }\n",
       "\n",
       "    .dataframe tbody tr th {\n",
       "        vertical-align: top;\n",
       "    }\n",
       "\n",
       "    .dataframe thead th {\n",
       "        text-align: right;\n",
       "    }\n",
       "</style>\n",
       "<table border=\"1\" class=\"dataframe\">\n",
       "  <thead>\n",
       "    <tr style=\"text-align: right;\">\n",
       "      <th></th>\n",
       "      <th>USER_ID</th>\n",
       "      <th>TMDB_ID</th>\n",
       "      <th>RATING</th>\n",
       "      <th>TIMESTAMP</th>\n",
       "    </tr>\n",
       "  </thead>\n",
       "  <tbody>\n",
       "    <tr>\n",
       "      <th>0</th>\n",
       "      <td>1</td>\n",
       "      <td>110</td>\n",
       "      <td>1.0</td>\n",
       "      <td>1425941529</td>\n",
       "    </tr>\n",
       "    <tr>\n",
       "      <th>1</th>\n",
       "      <td>1</td>\n",
       "      <td>147</td>\n",
       "      <td>4.5</td>\n",
       "      <td>1425942435</td>\n",
       "    </tr>\n",
       "    <tr>\n",
       "      <th>2</th>\n",
       "      <td>1</td>\n",
       "      <td>858</td>\n",
       "      <td>5.0</td>\n",
       "      <td>1425941523</td>\n",
       "    </tr>\n",
       "    <tr>\n",
       "      <th>3</th>\n",
       "      <td>1</td>\n",
       "      <td>1221</td>\n",
       "      <td>5.0</td>\n",
       "      <td>1425941546</td>\n",
       "    </tr>\n",
       "    <tr>\n",
       "      <th>4</th>\n",
       "      <td>1</td>\n",
       "      <td>1246</td>\n",
       "      <td>5.0</td>\n",
       "      <td>1425941556</td>\n",
       "    </tr>\n",
       "  </tbody>\n",
       "</table>\n",
       "</div>"
      ],
      "text/plain": [
       "   USER_ID  TMDB_ID  RATING   TIMESTAMP\n",
       "0        1      110     1.0  1425941529\n",
       "1        1      147     4.5  1425942435\n",
       "2        1      858     5.0  1425941523\n",
       "3        1     1221     5.0  1425941546\n",
       "4        1     1246     5.0  1425941556"
      ]
     },
     "execution_count": 107,
     "metadata": {},
     "output_type": "execute_result"
    }
   ],
   "source": [
    "# Read and clean table\n",
    "rating_df = spark.read.csv(filepath, header=True)\n",
    "\n",
    "rating_df = rating_df.withColumn(\"userId\", rating_df[\"userId\"].cast(IntegerType()))\n",
    "rating_df = rating_df.withColumn(\"movieId\", rating_df[\"movieId\"].cast(IntegerType()))\n",
    "rating_df = rating_df.withColumn(\"rating\", rating_df[\"rating\"].cast(DoubleType()))\n",
    "rating_df = rating_df.withColumn(\"timestamp\", rating_df[\"timestamp\"].cast(LongType()))\n",
    "\n",
    "rating_df = rating_df.selectExpr(\"userId as USER_ID\", \"movieId as TMDB_ID\", \"rating as RATING\", \"timestamp as TIMESTAMP\")\n",
    "\n",
    "print(\"Row counts: \", rating_df.count())\n",
    "rating_df.printSchema()\n",
    "rating_df.limit(5).toPandas().head(5)"
   ]
  },
  {
   "cell_type": "code",
   "execution_count": 42,
   "metadata": {},
   "outputs": [],
   "source": [
    "# Save to parquet on S3\n",
    "output_path = \"s3a://udacity-dend-capstone-1995/parquet/kaggle-movie-ratings/kaggle_movie_ratings.parquet\"\n",
    "rating_df.write.parquet(output_path, 'overwrite')\n",
    "\n",
    "del rating_df"
   ]
  }
 ],
 "metadata": {
  "kernelspec": {
   "display_name": "Python 3",
   "language": "python",
   "name": "python3"
  },
  "language_info": {
   "codemirror_mode": {
    "name": "ipython",
    "version": 3
   },
   "file_extension": ".py",
   "mimetype": "text/x-python",
   "name": "python",
   "nbconvert_exporter": "python",
   "pygments_lexer": "ipython3",
   "version": "3.7.7"
  }
 },
 "nbformat": 4,
 "nbformat_minor": 4
}
