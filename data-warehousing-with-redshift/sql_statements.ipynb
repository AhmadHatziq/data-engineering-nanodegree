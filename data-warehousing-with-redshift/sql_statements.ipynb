{
 "cells": [
  {
   "cell_type": "markdown",
   "metadata": {
    "editable": true
   },
   "source": [
    "# Test SQL statements"
   ]
  },
  {
   "cell_type": "code",
   "execution_count": 1,
   "metadata": {
    "editable": true
   },
   "outputs": [],
   "source": [
    "%load_ext sql"
   ]
  },
  {
   "cell_type": "code",
   "execution_count": 2,
   "metadata": {
    "editable": true
   },
   "outputs": [],
   "source": [
    "import boto3\n",
    "import configparser\n",
    "import matplotlib.pyplot as plt\n",
    "import pandas as pd\n",
    "import json\n",
    "import time\n",
    "import psycopg2\n",
    "from sql_queries import *"
   ]
  },
  {
   "cell_type": "markdown",
   "metadata": {
    "editable": true
   },
   "source": [
    "## Assume cluster is already created.\n",
    "## Create connection to DB"
   ]
  },
  {
   "cell_type": "code",
   "execution_count": 3,
   "metadata": {
    "editable": true
   },
   "outputs": [],
   "source": [
    "# Read config files\n",
    "config = configparser.ConfigParser()\n",
    "config.read('dwh.cfg')\n",
    "host, dbname, user, = config.get(\"DWH\",\"dwh_endpoint\"), config.get(\"DWH\", \"dwh_db\"),  config.get(\"DWH\", \"dwh_db_user\")\n",
    "password, port =  config.get(\"DWH\", \"dwh_db_password\"),  config.get(\"DWH\", \"dwh_port\")\n",
    "(host, dbname, user, password, port)\n",
    "\n",
    "arn_role = config.get(\"DWH\", \"dwh_role_arn\")"
   ]
  },
  {
   "cell_type": "code",
   "execution_count": 5,
   "metadata": {
    "editable": true
   },
   "outputs": [
    {
     "name": "stdout",
     "output_type": "stream",
     "text": [
      "Connection Established.\n"
     ]
    }
   ],
   "source": [
    "# Connect to cloud\n",
    "connection_string = \"host={} dbname={} user={} password={} port={}\".format(host, dbname, user, password, port)\n",
    "conn = psycopg2.connect(connection_string)\n",
    "cur = conn.cursor()\n",
    "conn.set_session(autocommit=True)\n",
    "\n",
    "print(\"Connection Established.\")"
   ]
  },
  {
   "cell_type": "markdown",
   "metadata": {
    "editable": true
   },
   "source": [
    "## Close connection"
   ]
  },
  {
   "cell_type": "code",
   "execution_count": 26,
   "metadata": {
    "editable": true
   },
   "outputs": [],
   "source": [
    "conn.close()"
   ]
  },
  {
   "cell_type": "markdown",
   "metadata": {
    "editable": true
   },
   "source": [
    "## Create Schemas and Tables"
   ]
  },
  {
   "cell_type": "code",
   "execution_count": 6,
   "metadata": {
    "editable": true
   },
   "outputs": [],
   "source": [
    "# Step 1. Create schemas\n",
    "sql_query = staging_schema_create\n",
    "cur.execute(sql_query)\n",
    "conn.commit()\n",
    "\n",
    "sql_query = star_schema_create\n",
    "cur.execute(sql_query)\n",
    "conn.commit()\n",
    "\n",
    "# Step 2. Create all tables\n",
    "for statement in create_table_queries:\n",
    "    cur.execute(statement)\n",
    "    conn.commit()"
   ]
  },
  {
   "cell_type": "markdown",
   "metadata": {
    "editable": true
   },
   "source": [
    "## DROP Tables"
   ]
  },
  {
   "cell_type": "code",
   "execution_count": 17,
   "metadata": {
    "editable": true
   },
   "outputs": [],
   "source": [
    "for statement in drop_table_queries:\n",
    "    cur.execute(statement)\n",
    "    conn.commit()"
   ]
  },
  {
   "cell_type": "markdown",
   "metadata": {
    "editable": true
   },
   "source": [
    "## Import data from S3 bucket to staging tables"
   ]
  },
  {
   "cell_type": "code",
   "execution_count": 7,
   "metadata": {
    "editable": true
   },
   "outputs": [
    {
     "name": "stdout",
     "output_type": "stream",
     "text": [
      "\n",
      "COPY staging_schema.staging_events\n",
      "FROM 's3://udacity-dend/log_data'\n",
      "credentials 'aws_iam_role=arn:aws:iam::904972942839:role/dwhRole'\n",
      "FORMAT AS json 's3://udacity-dend/log_json_path.json'\n",
      "region 'us-west-2';\n",
      "\n",
      "\n",
      "COPY staging_schema.staging_songs\n",
      "FROM 's3://udacity-dend/song_data'\n",
      "credentials 'aws_iam_role=arn:aws:iam::904972942839:role/dwhRole'\n",
      "FORMAT AS json 'auto'\n",
      "region 'us-west-2';\n",
      "\n"
     ]
    }
   ],
   "source": [
    "for query in copy_table_queries:\n",
    "    print(query)\n",
    "    cur.execute(query)\n",
    "    conn.commit()"
   ]
  },
  {
   "cell_type": "markdown",
   "metadata": {
    "editable": true
   },
   "source": [
    "# Transform the data and load to star schema tables"
   ]
  },
  {
   "cell_type": "markdown",
   "metadata": {
    "editable": true
   },
   "source": [
    "## Use the list from sql_queries"
   ]
  },
  {
   "cell_type": "code",
   "execution_count": 9,
   "metadata": {
    "editable": true
   },
   "outputs": [
    {
     "name": "stdout",
     "output_type": "stream",
     "text": [
      "\n",
      "-- Time code taken from: https://stackoverflow.com/questions/39815425/how-to-convert-epoch-to-datetime-redshift\n",
      "INSERT INTO star_schema.songplays (start_time, user_id, level, song_id, artist_id, session_id, location, user_agent)\n",
      "SELECT DISTINCT\n",
      "       TIMESTAMP 'epoch' + (se.ts / 1000) * INTERVAL '1 second' as start_time,\n",
      "                se.userId,\n",
      "                se.level,\n",
      "                ss.song_id,\n",
      "                ss.artist_id,\n",
      "                se.sessionId,\n",
      "                se.location,\n",
      "                se.userAgent\n",
      "FROM staging_schema.staging_songs ss\n",
      "INNER JOIN staging_schema.staging_events se\n",
      "ON (ss.title = se.song AND se.artist = ss.artist_name)\n",
      "AND se.page = 'NextSong';\n",
      "\n",
      "\n",
      "INSERT INTO star_schema.users\n",
      "SELECT DISTINCT userId, firstName, lastName, gender, level\n",
      "FROM staging_schema.staging_events\n",
      "WHERE userId IS NOT NULL\n",
      "AND page = 'NextSong';\n",
      "\n",
      "\n",
      "INSERT INTO star_schema.songs\n",
      "SELECT DISTINCT song_id, title, artist_id, year, duration\n",
      "FROM staging_schema.staging_songs\n",
      "WHERE song_id IS NOT NULL;\n",
      "\n",
      "\n",
      "INSERT INTO star_schema.artists\n",
      "SELECT DISTINCT artist_id, artist_name, artist_location, artist_latitude, artist_longitude\n",
      "FROM staging_schema.staging_songs;\n",
      "\n",
      "\n",
      "-- Import data from staging_events -> time\n",
      "-- Conversion from ms to TIMESTAMP taken from:\n",
      "-- https://stackoverflow.com/questions/39815425/how-to-convert-epoch-to-datetime-redshift\n",
      "INSERT INTO star_schema.time\n",
      "SELECT DISTINCT\n",
      "       TIMESTAMP 'epoch' + (ts/1000) * INTERVAL '1 second' as start_time,\n",
      "       EXTRACT(HOUR FROM start_time) AS hour,\n",
      "       EXTRACT(DAY FROM start_time) AS day,\n",
      "       EXTRACT(WEEKS FROM start_time) AS week,\n",
      "       EXTRACT(MONTH FROM start_time) AS month,\n",
      "       EXTRACT(YEAR FROM start_time) AS year,\n",
      "       to_char(start_time, 'Day') AS weekday\n",
      "FROM staging_schema.staging_events\n",
      "\n"
     ]
    }
   ],
   "source": [
    "for query in insert_table_queries:\n",
    "    print(query)\n",
    "    cur.execute(query)\n",
    "    conn.commit()"
   ]
  },
  {
   "cell_type": "markdown",
   "metadata": {
    "editable": true
   },
   "source": [
    "### Load to time table"
   ]
  },
  {
   "cell_type": "code",
   "execution_count": 8,
   "metadata": {
    "editable": true
   },
   "outputs": [
    {
     "name": "stdout",
     "output_type": "stream",
     "text": [
      "\n",
      "-- Import data from staging_events -> time\n",
      "-- Conversion from ms to TIMESTAMP taken from:\n",
      "-- https://stackoverflow.com/questions/39815425/how-to-convert-epoch-to-datetime-redshift\n",
      "INSERT INTO star_schema.time\n",
      "SELECT DISTINCT\n",
      "       TIMESTAMP 'epoch' + (ts/1000) * INTERVAL '1 second' as start_time,\n",
      "       EXTRACT(HOUR FROM start_time) AS hour,\n",
      "       EXTRACT(DAY FROM start_time) AS day,\n",
      "       EXTRACT(WEEKS FROM start_time) AS week,\n",
      "       EXTRACT(MONTH FROM start_time) AS month,\n",
      "       EXTRACT(YEAR FROM start_time) AS year,\n",
      "       to_char(start_time, 'Day') AS weekday\n",
      "FROM staging_schema.staging_events\n",
      "\n"
     ]
    }
   ],
   "source": [
    "sql_query = \"\"\"\n",
    "-- Import data from staging_events -> time\n",
    "-- Conversion from ms to TIMESTAMP taken from:\n",
    "-- https://stackoverflow.com/questions/39815425/how-to-convert-epoch-to-datetime-redshift\n",
    "INSERT INTO star_schema.time\n",
    "SELECT DISTINCT\n",
    "       TIMESTAMP 'epoch' + (ts/1000) * INTERVAL '1 second' as start_time,\n",
    "       EXTRACT(HOUR FROM start_time) AS hour,\n",
    "       EXTRACT(DAY FROM start_time) AS day,\n",
    "       EXTRACT(WEEKS FROM start_time) AS week,\n",
    "       EXTRACT(MONTH FROM start_time) AS month,\n",
    "       EXTRACT(YEAR FROM start_time) AS year,\n",
    "       to_char(start_time, 'Day') AS weekday\n",
    "FROM staging_schema.staging_events\n",
    "\"\"\"\n",
    "\n",
    "print(sql_query)\n",
    "\n",
    "cur.execute(sql_query)\n",
    "conn.commit()"
   ]
  },
  {
   "cell_type": "markdown",
   "metadata": {
    "editable": true
   },
   "source": [
    "## Load to users table"
   ]
  },
  {
   "cell_type": "code",
   "execution_count": 10,
   "metadata": {
    "editable": true
   },
   "outputs": [
    {
     "name": "stdout",
     "output_type": "stream",
     "text": [
      "\n",
      "INSERT INTO star_schema.users\n",
      "SELECT DISTINCT userId, firstName, lastName, gender, level\n",
      "FROM staging_schema.staging_events\n",
      "WHERE userId IS NOT NULL\n",
      "AND page = 'NextSong';\n",
      "\n"
     ]
    }
   ],
   "source": [
    "sql_query = \"\"\"\n",
    "INSERT INTO star_schema.users\n",
    "SELECT DISTINCT userId, firstName, lastName, gender, level\n",
    "FROM staging_schema.staging_events\n",
    "WHERE userId IS NOT NULL\n",
    "AND page = 'NextSong';\n",
    "\"\"\"\n",
    "\n",
    "print(sql_query)\n",
    "\n",
    "cur.execute(sql_query)\n",
    "conn.commit()"
   ]
  },
  {
   "cell_type": "markdown",
   "metadata": {
    "editable": true
   },
   "source": [
    "## Load to song table"
   ]
  },
  {
   "cell_type": "code",
   "execution_count": 12,
   "metadata": {
    "editable": true
   },
   "outputs": [
    {
     "name": "stdout",
     "output_type": "stream",
     "text": [
      "\n",
      "INSERT INTO star_schema.songs\n",
      "SELECT DISTINCT song_id, title, artist_id, year, duration\n",
      "FROM staging_schema.staging_songs\n",
      "WHERE song_id IS NOT NULL;\n",
      "\n"
     ]
    }
   ],
   "source": [
    "sql_query = \"\"\"\n",
    "INSERT INTO star_schema.songs\n",
    "SELECT DISTINCT song_id, title, artist_id, year, duration\n",
    "FROM staging_schema.staging_songs\n",
    "WHERE song_id IS NOT NULL;\n",
    "\"\"\"\n",
    "\n",
    "print(sql_query)\n",
    "\n",
    "cur.execute(sql_query)\n",
    "conn.commit()"
   ]
  },
  {
   "cell_type": "markdown",
   "metadata": {
    "editable": true
   },
   "source": [
    "## Load into artists table"
   ]
  },
  {
   "cell_type": "code",
   "execution_count": 13,
   "metadata": {
    "editable": true
   },
   "outputs": [
    {
     "name": "stdout",
     "output_type": "stream",
     "text": [
      "\n",
      "INSERT INTO star_schema.artists\n",
      "SELECT DISTINCT artist_id, artist_name, artist_location, artist_latitude, artist_longitude\n",
      "FROM staging_schema.staging_songs;\n",
      "\n"
     ]
    }
   ],
   "source": [
    "sql_query = \"\"\"\n",
    "INSERT INTO star_schema.artists\n",
    "SELECT DISTINCT artist_id, artist_name, artist_location, artist_latitude, artist_longitude\n",
    "FROM staging_schema.staging_songs;\n",
    "\"\"\"\n",
    "\n",
    "print(sql_query)\n",
    "\n",
    "cur.execute(sql_query)\n",
    "conn.commit()"
   ]
  },
  {
   "cell_type": "markdown",
   "metadata": {
    "editable": true
   },
   "source": [
    "## Load into songplays table"
   ]
  },
  {
   "cell_type": "code",
   "execution_count": 16,
   "metadata": {
    "editable": true
   },
   "outputs": [
    {
     "name": "stdout",
     "output_type": "stream",
     "text": [
      "\n",
      "-- Time code taken from: https://stackoverflow.com/questions/39815425/how-to-convert-epoch-to-datetime-redshift\n",
      "INSERT INTO star_schema.songplays (start_time, user_id, level, song_id, artist_id, session_id, location, user_agent)\n",
      "SELECT DISTINCT\n",
      "       TIMESTAMP 'epoch' + (se.ts / 1000) * INTERVAL '1 second' as start_time,\n",
      "                se.userId,\n",
      "                se.level,\n",
      "                ss.song_id,\n",
      "                ss.artist_id,\n",
      "                se.sessionId,\n",
      "                se.location,\n",
      "                se.userAgent\n",
      "FROM staging_schema.staging_songs ss\n",
      "INNER JOIN staging_schema.staging_events se\n",
      "ON (ss.title = se.song AND se.artist = ss.artist_name)\n",
      "AND se.page = 'NextSong';\n",
      "\n"
     ]
    }
   ],
   "source": [
    "sql_query = \"\"\"\n",
    "-- Time code taken from: https://stackoverflow.com/questions/39815425/how-to-convert-epoch-to-datetime-redshift\n",
    "INSERT INTO star_schema.songplays (start_time, user_id, level, song_id, artist_id, session_id, location, user_agent)\n",
    "SELECT DISTINCT\n",
    "       TIMESTAMP 'epoch' + (se.ts / 1000) * INTERVAL '1 second' as start_time,\n",
    "                se.userId,\n",
    "                se.level,\n",
    "                ss.song_id,\n",
    "                ss.artist_id,\n",
    "                se.sessionId,\n",
    "                se.location,\n",
    "                se.userAgent\n",
    "FROM staging_schema.staging_songs ss\n",
    "INNER JOIN staging_schema.staging_events se\n",
    "ON (ss.title = se.song AND se.artist = ss.artist_name)\n",
    "AND se.page = 'NextSong';\n",
    "\"\"\"\n",
    "\n",
    "print(sql_query)\n",
    "\n",
    "cur.execute(sql_query)\n",
    "conn.commit()"
   ]
  }
 ],
 "metadata": {
  "kernelspec": {
   "display_name": "Python 3",
   "language": "python",
   "name": "python3"
  },
  "language_info": {
   "codemirror_mode": {
    "name": "ipython",
    "version": 3
   },
   "file_extension": ".py",
   "mimetype": "text/x-python",
   "name": "python",
   "nbconvert_exporter": "python",
   "pygments_lexer": "ipython3",
   "version": "3.6.3"
  }
 },
 "nbformat": 4,
 "nbformat_minor": 4
}
